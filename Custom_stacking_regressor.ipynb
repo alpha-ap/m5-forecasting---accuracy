{
 "cells": [
  {
   "cell_type": "code",
   "execution_count": 1,
   "metadata": {
    "execution": {
     "iopub.execute_input": "2021-08-22T03:08:36.920135Z",
     "iopub.status.busy": "2021-08-22T03:08:36.919802Z",
     "iopub.status.idle": "2021-08-22T03:08:39.364484Z",
     "shell.execute_reply": "2021-08-22T03:08:39.363639Z",
     "shell.execute_reply.started": "2021-08-22T03:08:36.920057Z"
    }
   },
   "outputs": [
    {
     "data": {
      "text/html": [
       "<style type='text/css'>\n",
       ".datatable table.frame { margin-bottom: 0; }\n",
       ".datatable table.frame thead { border-bottom: none; }\n",
       ".datatable table.frame tr.coltypes td {  color: #FFFFFF;  line-height: 6px;  padding: 0 0.5em;}\n",
       ".datatable .bool    { background: #DDDD99; }\n",
       ".datatable .object  { background: #565656; }\n",
       ".datatable .int     { background: #5D9E5D; }\n",
       ".datatable .float   { background: #4040CC; }\n",
       ".datatable .str     { background: #CC4040; }\n",
       ".datatable .time    { background: #40CC40; }\n",
       ".datatable .row_index {  background: var(--jp-border-color3);  border-right: 1px solid var(--jp-border-color0);  color: var(--jp-ui-font-color3);  font-size: 9px;}\n",
       ".datatable .frame tbody td { text-align: left; }\n",
       ".datatable .frame tr.coltypes .row_index {  background: var(--jp-border-color0);}\n",
       ".datatable th:nth-child(2) { padding-left: 12px; }\n",
       ".datatable .hellipsis {  color: var(--jp-cell-editor-border-color);}\n",
       ".datatable .vellipsis {  background: var(--jp-layout-color0);  color: var(--jp-cell-editor-border-color);}\n",
       ".datatable .na {  color: var(--jp-cell-editor-border-color);  font-size: 80%;}\n",
       ".datatable .sp {  opacity: 0.25;}\n",
       ".datatable .footer { font-size: 9px; }\n",
       ".datatable .frame_dimensions {  background: var(--jp-border-color3);  border-top: 1px solid var(--jp-border-color0);  color: var(--jp-ui-font-color3);  display: inline-block;  opacity: 0.6;  padding: 1px 10px 1px 5px;}\n",
       "</style>\n"
      ],
      "text/plain": [
       "<IPython.core.display.HTML object>"
      ]
     },
     "metadata": {},
     "output_type": "display_data"
    }
   ],
   "source": [
    "import pandas as pd\n",
    "import numpy as np\n",
    "import random\n",
    "from tqdm import tqdm\n",
    "from sklearn.metrics import mean_squared_error as mse\n",
    "from sklearn.ensemble import RandomForestRegressor\n",
    "from catboost import CatBoostRegressor\n",
    "from xgboost import XGBRegressor\n",
    "from sklearn.tree import DecisionTreeRegressor\n",
    "from lightgbm import LGBMRegressor\n",
    "from sklearn.linear_model import LinearRegression"
   ]
  },
  {
   "cell_type": "code",
   "execution_count": 2,
   "metadata": {
    "execution": {
     "iopub.execute_input": "2021-08-22T03:08:39.366042Z",
     "iopub.status.busy": "2021-08-22T03:08:39.365730Z",
     "iopub.status.idle": "2021-08-22T03:08:49.477262Z",
     "shell.execute_reply": "2021-08-22T03:08:49.476315Z",
     "shell.execute_reply.started": "2021-08-22T03:08:39.366010Z"
    }
   },
   "outputs": [],
   "source": [
    "cal_df = pd.read_csv('../input/m5-forecasting-accuracy/calendar.csv')\n",
    "prices_df = pd.read_csv('../input/m5-forecasting-accuracy/sell_prices.csv')\n",
    "sales_df_wide = pd.read_csv('../input/m5-forecasting-accuracy/sales_train_evaluation.csv')"
   ]
  },
  {
   "cell_type": "markdown",
   "metadata": {},
   "source": [
    "## **Data Preprocessing**"
   ]
  },
  {
   "cell_type": "code",
   "execution_count": 3,
   "metadata": {
    "execution": {
     "iopub.execute_input": "2021-08-22T03:08:49.479473Z",
     "iopub.status.busy": "2021-08-22T03:08:49.479168Z",
     "iopub.status.idle": "2021-08-22T03:08:49.508577Z",
     "shell.execute_reply": "2021-08-22T03:08:49.508033Z",
     "shell.execute_reply.started": "2021-08-22T03:08:49.479444Z"
    }
   },
   "outputs": [],
   "source": [
    "#there are many NaN values in event_name and event_type fields\n",
    "#Filling them with 'NoEvent' and 'None' resp\n",
    "cal_df['event_name_1'].fillna('NoEvent',inplace=True)\n",
    "cal_df['event_type_1'].fillna('None',inplace=True)\n",
    "cal_df['event_name_2'].fillna('NoEvent',inplace=True)\n",
    "cal_df['event_type_2'].fillna('None',inplace=True)\n",
    "#dropping redundant columns and changing datatypes to reduce memory usage\n",
    "cal_df.drop(['date','weekday'],axis=1,inplace=True)\n",
    "cal_df['wm_yr_wk'] = cal_df.wm_yr_wk.astype('int16')\n",
    "cal_df['d'] = cal_df.d.str[2:].astype('int16')\n",
    "for col in ['wday','month','snap_CA','snap_TX','snap_WI']:\n",
    "    cal_df[col] = cal_df[col].astype('int8')\n",
    "for col in ['event_name_1','event_type_1','event_name_2','event_type_2']:\n",
    "    cal_df[col] = cal_df[col].astype('category')"
   ]
  },
  {
   "cell_type": "code",
   "execution_count": 4,
   "metadata": {
    "execution": {
     "iopub.execute_input": "2021-08-22T03:08:49.510273Z",
     "iopub.status.busy": "2021-08-22T03:08:49.509885Z",
     "iopub.status.idle": "2021-08-22T03:08:50.513451Z",
     "shell.execute_reply": "2021-08-22T03:08:50.512948Z",
     "shell.execute_reply.started": "2021-08-22T03:08:49.510241Z"
    }
   },
   "outputs": [],
   "source": [
    "# changing datatypes to reduce memory usage\n",
    "prices_df['store_id'] = prices_df.store_id.astype('category')\n",
    "prices_df['item_id'] = prices_df.item_id.astype('category')\n",
    "prices_df['wm_yr_wk'] = prices_df.wm_yr_wk.astype('int16')\n",
    "prices_df['sell_price'] = prices_df.sell_price.astype('float16')"
   ]
  },
  {
   "cell_type": "code",
   "execution_count": 5,
   "metadata": {
    "execution": {
     "iopub.execute_input": "2021-08-22T03:08:50.514713Z",
     "iopub.status.busy": "2021-08-22T03:08:50.514320Z",
     "iopub.status.idle": "2021-08-22T03:10:13.355966Z",
     "shell.execute_reply": "2021-08-22T03:10:13.355145Z",
     "shell.execute_reply.started": "2021-08-22T03:08:50.514684Z"
    }
   },
   "outputs": [],
   "source": [
    "#adding columns 'd_1942'...'d_1969' as we have to predict unit sales for these days and assigning value 0\n",
    "for i in range(1942,1970):\n",
    "    sales_df_wide['d_'+str(i)] = 0\n",
    "#converting the wide-form data frame to long-form so that columns from other 2 data frames can be merged\n",
    "train_df = pd.melt(sales_df_wide,id_vars=['id','item_id','dept_id','cat_id','store_id','state_id'],\\\n",
    "                   var_name='d',value_name='units_sold')\n",
    "# changing datatypes to reduce memory usage\n",
    "train_df['d'] = train_df.d.str[2:].astype('int16')\n",
    "train_df['units_sold'] = train_df.units_sold.astype('int16')\n",
    "for col in ['id','item_id','dept_id','cat_id','store_id','state_id']:\n",
    "  train_df[col] = train_df[col].astype('category')    "
   ]
  },
  {
   "cell_type": "code",
   "execution_count": 6,
   "metadata": {
    "execution": {
     "iopub.execute_input": "2021-08-22T03:10:13.357442Z",
     "iopub.status.busy": "2021-08-22T03:10:13.357114Z",
     "iopub.status.idle": "2021-08-22T03:10:39.209318Z",
     "shell.execute_reply": "2021-08-22T03:10:39.208182Z",
     "shell.execute_reply.started": "2021-08-22T03:10:13.357406Z"
    }
   },
   "outputs": [],
   "source": [
    "#merging with 'cal_df'\n",
    "train_df = pd.merge(train_df,cal_df,on='d',how='left')\n",
    "#merging with 'prices_df'\n",
    "train_df = pd.merge(train_df,prices_df,on=['item_id','store_id','wm_yr_wk'],how='left')"
   ]
  },
  {
   "cell_type": "code",
   "execution_count": 7,
   "metadata": {
    "execution": {
     "iopub.execute_input": "2021-08-22T03:10:39.211452Z",
     "iopub.status.busy": "2021-08-22T03:10:39.211092Z",
     "iopub.status.idle": "2021-08-22T03:10:39.220190Z",
     "shell.execute_reply": "2021-08-22T03:10:39.219273Z",
     "shell.execute_reply.started": "2021-08-22T03:10:39.211421Z"
    }
   },
   "outputs": [],
   "source": [
    "del cal_df,prices_df,sales_df_wide"
   ]
  },
  {
   "cell_type": "code",
   "execution_count": 8,
   "metadata": {
    "execution": {
     "iopub.execute_input": "2021-08-22T03:10:39.221546Z",
     "iopub.status.busy": "2021-08-22T03:10:39.221331Z",
     "iopub.status.idle": "2021-08-22T03:10:42.060681Z",
     "shell.execute_reply": "2021-08-22T03:10:42.059937Z",
     "shell.execute_reply.started": "2021-08-22T03:10:39.221523Z"
    }
   },
   "outputs": [],
   "source": [
    "#sell_price data is not available for many rows. \n",
    "#For previous weeks filling this data by mean sell_prices for the item_id and store_id pair\n",
    "train_df['sell_price'].fillna(train_df.groupby(['store_id','item_id'])['sell_price'].transform('mean'),inplace=True)"
   ]
  },
  {
   "cell_type": "code",
   "execution_count": 9,
   "metadata": {
    "execution": {
     "iopub.execute_input": "2021-08-22T03:10:42.062916Z",
     "iopub.status.busy": "2021-08-22T03:10:42.062658Z",
     "iopub.status.idle": "2021-08-22T03:12:04.129246Z",
     "shell.execute_reply": "2021-08-22T03:12:04.128350Z",
     "shell.execute_reply.started": "2021-08-22T03:10:42.062853Z"
    }
   },
   "outputs": [],
   "source": [
    "#calculating lag features and filling NA values with 0\n",
    "for i in [7,14,21,28]:\n",
    "    train_df['lag_'+str(i)] = train_df.groupby('id')['units_sold'].transform(lambda x:x.shift(i))\n",
    "    train_df['lag_'+str(i)].fillna(0,inplace=True)"
   ]
  },
  {
   "cell_type": "code",
   "execution_count": 10,
   "metadata": {
    "execution": {
     "iopub.execute_input": "2021-08-22T03:12:04.132758Z",
     "iopub.status.busy": "2021-08-22T03:12:04.132531Z",
     "iopub.status.idle": "2021-08-22T03:14:18.107882Z",
     "shell.execute_reply": "2021-08-22T03:14:18.106798Z",
     "shell.execute_reply.started": "2021-08-22T03:12:04.132735Z"
    }
   },
   "outputs": [],
   "source": [
    "#ref:https://www.kaggle.com/kyakovlev/m5-lags-features\n",
    "#rolling window mean features and filling NA values with 0\n",
    "for i in [7,14]:\n",
    "    train_df['rolling_mean_'+str(i)] = train_df.groupby('id')['units_sold'].transform(lambda x:x.rolling(i).mean())\n",
    "    train_df['rolling_mean_'+str(i)].fillna(0,inplace=True)\n",
    "#rolling window meadion features and filling NA values with 0\n",
    "for i in [7,14]:\n",
    "    train_df['rolling_median_'+str(i)] = train_df.groupby('id')['units_sold'].transform(lambda x:x.rolling(i).median())\n",
    "    train_df['rolling_median_'+str(i)].fillna(0,inplace=True)"
   ]
  },
  {
   "cell_type": "code",
   "execution_count": 11,
   "metadata": {
    "execution": {
     "iopub.execute_input": "2021-08-22T03:14:18.109970Z",
     "iopub.status.busy": "2021-08-22T03:14:18.109631Z",
     "iopub.status.idle": "2021-08-22T03:14:21.356499Z",
     "shell.execute_reply": "2021-08-22T03:14:21.355555Z",
     "shell.execute_reply.started": "2021-08-22T03:14:18.109939Z"
    }
   },
   "outputs": [],
   "source": [
    "#dropping features 'wm_yr_wk' and 'year' as they are similar to 'd'\n",
    "train_df.drop(['wm_yr_wk','year'],axis=1,inplace=True)"
   ]
  },
  {
   "cell_type": "code",
   "execution_count": 12,
   "metadata": {
    "execution": {
     "iopub.execute_input": "2021-08-22T03:14:21.357723Z",
     "iopub.status.busy": "2021-08-22T03:14:21.357500Z",
     "iopub.status.idle": "2021-08-22T03:14:26.803858Z",
     "shell.execute_reply": "2021-08-22T03:14:26.802907Z",
     "shell.execute_reply.started": "2021-08-22T03:14:21.357702Z"
    }
   },
   "outputs": [],
   "source": [
    "for i in ['lag_7','lag_14','lag_21','lag_28','rolling_mean_7','rolling_mean_14','rolling_median_7','rolling_median_14']:\n",
    "    train_df[i] = train_df[i].astype('float16')"
   ]
  },
  {
   "cell_type": "code",
   "execution_count": 13,
   "metadata": {
    "execution": {
     "iopub.execute_input": "2021-08-22T03:14:26.805382Z",
     "iopub.status.busy": "2021-08-22T03:14:26.805088Z",
     "iopub.status.idle": "2021-08-22T03:15:30.744593Z",
     "shell.execute_reply": "2021-08-22T03:15:30.742847Z",
     "shell.execute_reply.started": "2021-08-22T03:14:26.805353Z"
    }
   },
   "outputs": [],
   "source": [
    "from sklearn.model_selection import train_test_split\n",
    "y = train_df['units_sold']\n",
    "train_df.drop(['units_sold'],axis=1,inplace=True)\n",
    "x_train,x_test,y_train,y_test = train_test_split(train_df, y, test_size=0.2, random_state=42)"
   ]
  },
  {
   "cell_type": "code",
   "execution_count": 14,
   "metadata": {
    "execution": {
     "iopub.execute_input": "2021-08-22T03:15:30.746526Z",
     "iopub.status.busy": "2021-08-22T03:15:30.746234Z",
     "iopub.status.idle": "2021-08-22T03:15:30.757480Z",
     "shell.execute_reply": "2021-08-22T03:15:30.755943Z",
     "shell.execute_reply.started": "2021-08-22T03:15:30.746498Z"
    }
   },
   "outputs": [],
   "source": [
    "del train_df"
   ]
  },
  {
   "cell_type": "code",
   "execution_count": 15,
   "metadata": {
    "execution": {
     "iopub.execute_input": "2021-08-22T03:15:30.759020Z",
     "iopub.status.busy": "2021-08-22T03:15:30.758676Z",
     "iopub.status.idle": "2021-08-22T03:15:30.777915Z",
     "shell.execute_reply": "2021-08-22T03:15:30.776887Z",
     "shell.execute_reply.started": "2021-08-22T03:15:30.758988Z"
    }
   },
   "outputs": [],
   "source": [
    "del y"
   ]
  },
  {
   "cell_type": "code",
   "execution_count": 16,
   "metadata": {
    "execution": {
     "iopub.execute_input": "2021-08-22T03:15:30.779402Z",
     "iopub.status.busy": "2021-08-22T03:15:30.779096Z",
     "iopub.status.idle": "2021-08-22T03:15:41.321362Z",
     "shell.execute_reply": "2021-08-22T03:15:41.320638Z",
     "shell.execute_reply.started": "2021-08-22T03:15:30.779366Z"
    }
   },
   "outputs": [],
   "source": [
    "from sklearn.preprocessing import LabelEncoder\n",
    "#feature encoding\n",
    "le = LabelEncoder()\n",
    "x_train_item_cat = le.fit_transform(x_train.item_id.values)\n",
    "x_test_item_cat = le.transform(x_test.item_id.values)"
   ]
  },
  {
   "cell_type": "code",
   "execution_count": 17,
   "metadata": {
    "execution": {
     "iopub.execute_input": "2021-08-22T03:15:41.323179Z",
     "iopub.status.busy": "2021-08-22T03:15:41.322885Z",
     "iopub.status.idle": "2021-08-22T03:15:55.744201Z",
     "shell.execute_reply": "2021-08-22T03:15:55.743063Z",
     "shell.execute_reply.started": "2021-08-22T03:15:41.323147Z"
    }
   },
   "outputs": [],
   "source": [
    "x_train_id_cat = le.fit_transform(x_train.id.values)\n",
    "x_test_id_cat = le.transform(x_test.id.values)"
   ]
  },
  {
   "cell_type": "code",
   "execution_count": 18,
   "metadata": {
    "execution": {
     "iopub.execute_input": "2021-08-22T03:15:55.746425Z",
     "iopub.status.busy": "2021-08-22T03:15:55.745856Z",
     "iopub.status.idle": "2021-08-22T03:16:04.918266Z",
     "shell.execute_reply": "2021-08-22T03:16:04.917342Z",
     "shell.execute_reply.started": "2021-08-22T03:15:55.746370Z"
    }
   },
   "outputs": [],
   "source": [
    "x_train_event_name_1 = le.fit_transform(x_train.event_name_1.values)\n",
    "x_test_event_name_1 = le.transform(x_test.event_name_1.values)"
   ]
  },
  {
   "cell_type": "code",
   "execution_count": 19,
   "metadata": {
    "execution": {
     "iopub.execute_input": "2021-08-22T03:16:04.919440Z",
     "iopub.status.busy": "2021-08-22T03:16:04.919150Z",
     "iopub.status.idle": "2021-08-22T03:16:14.110159Z",
     "shell.execute_reply": "2021-08-22T03:16:14.108851Z",
     "shell.execute_reply.started": "2021-08-22T03:16:04.919410Z"
    }
   },
   "outputs": [],
   "source": [
    "x_train_event_type_1 = le.fit_transform(x_train.event_type_1.values)\n",
    "x_test_event_type_1 = le.transform(x_test.event_type_1.values)"
   ]
  },
  {
   "cell_type": "code",
   "execution_count": 20,
   "metadata": {
    "execution": {
     "iopub.execute_input": "2021-08-22T03:16:14.111620Z",
     "iopub.status.busy": "2021-08-22T03:16:14.111259Z",
     "iopub.status.idle": "2021-08-22T03:16:23.218414Z",
     "shell.execute_reply": "2021-08-22T03:16:23.217531Z",
     "shell.execute_reply.started": "2021-08-22T03:16:14.111581Z"
    }
   },
   "outputs": [],
   "source": [
    "x_train_event_name_2 = le.fit_transform(x_train.event_name_2.values)\n",
    "x_test_event_name_2 = le.transform(x_test.event_name_2.values)"
   ]
  },
  {
   "cell_type": "code",
   "execution_count": 21,
   "metadata": {
    "execution": {
     "iopub.execute_input": "2021-08-22T03:16:23.220207Z",
     "iopub.status.busy": "2021-08-22T03:16:23.219837Z",
     "iopub.status.idle": "2021-08-22T03:16:32.445216Z",
     "shell.execute_reply": "2021-08-22T03:16:32.443963Z",
     "shell.execute_reply.started": "2021-08-22T03:16:23.220173Z"
    }
   },
   "outputs": [],
   "source": [
    "x_train_event_type_2 = le.fit_transform(x_train.event_type_2.values)\n",
    "x_test_event_type_2 = le.transform(x_test.event_type_2.values)"
   ]
  },
  {
   "cell_type": "code",
   "execution_count": 22,
   "metadata": {
    "execution": {
     "iopub.execute_input": "2021-08-22T03:16:32.446883Z",
     "iopub.status.busy": "2021-08-22T03:16:32.446565Z",
     "iopub.status.idle": "2021-08-22T03:16:32.915225Z",
     "shell.execute_reply": "2021-08-22T03:16:32.914121Z",
     "shell.execute_reply.started": "2021-08-22T03:16:32.446832Z"
    }
   },
   "outputs": [],
   "source": [
    "x_train['item_id'] = x_train_item_cat\n",
    "x_test['item_id'] = x_test_item_cat\n",
    "\n",
    "x_train['id'] = x_train_id_cat\n",
    "x_test['id'] = x_test_id_cat\n",
    "\n",
    "x_train['event_name_1'] = x_train_event_name_1\n",
    "x_test['event_name_1'] = x_test_event_name_1\n",
    "\n",
    "x_train['event_type_1'] = x_train_event_type_1\n",
    "x_test['event_type_1'] = x_test_event_type_1\n",
    "\n",
    "x_train['event_name_2'] = x_train_event_name_2\n",
    "x_test['event_name_2'] = x_test_event_name_2\n",
    "\n",
    "x_train['event_type_2'] = x_train_event_type_2\n",
    "x_test['event_type_2'] = x_test_event_type_2"
   ]
  },
  {
   "cell_type": "code",
   "execution_count": 23,
   "metadata": {
    "execution": {
     "iopub.execute_input": "2021-08-22T03:16:32.916628Z",
     "iopub.status.busy": "2021-08-22T03:16:32.916412Z",
     "iopub.status.idle": "2021-08-22T03:16:32.924721Z",
     "shell.execute_reply": "2021-08-22T03:16:32.924179Z",
     "shell.execute_reply.started": "2021-08-22T03:16:32.916606Z"
    }
   },
   "outputs": [],
   "source": [
    "del x_train_item_cat,x_train_id_cat,x_train_event_name_1,x_train_event_type_1,x_train_event_name_2,x_train_event_type_2"
   ]
  },
  {
   "cell_type": "code",
   "execution_count": 24,
   "metadata": {
    "execution": {
     "iopub.execute_input": "2021-08-22T03:16:32.925595Z",
     "iopub.status.busy": "2021-08-22T03:16:32.925414Z",
     "iopub.status.idle": "2021-08-22T03:16:32.949531Z",
     "shell.execute_reply": "2021-08-22T03:16:32.948961Z",
     "shell.execute_reply.started": "2021-08-22T03:16:32.925574Z"
    }
   },
   "outputs": [],
   "source": [
    "del x_test_item_cat,x_test_id_cat,x_test_event_name_1,x_test_event_type_1,x_test_event_name_2,x_test_event_type_2"
   ]
  },
  {
   "cell_type": "code",
   "execution_count": 25,
   "metadata": {
    "execution": {
     "iopub.execute_input": "2021-08-22T03:16:32.950778Z",
     "iopub.status.busy": "2021-08-22T03:16:32.950483Z",
     "iopub.status.idle": "2021-08-22T03:16:42.204277Z",
     "shell.execute_reply": "2021-08-22T03:16:42.203496Z",
     "shell.execute_reply.started": "2021-08-22T03:16:32.950755Z"
    }
   },
   "outputs": [],
   "source": [
    "x_train_dept_cat = le.fit_transform(x_train.dept_id.values)\n",
    "x_test_dept_cat = le.transform(x_test.dept_id.values)"
   ]
  },
  {
   "cell_type": "code",
   "execution_count": 26,
   "metadata": {
    "execution": {
     "iopub.execute_input": "2021-08-22T03:16:42.205509Z",
     "iopub.status.busy": "2021-08-22T03:16:42.205220Z",
     "iopub.status.idle": "2021-08-22T03:16:51.987233Z",
     "shell.execute_reply": "2021-08-22T03:16:51.986471Z",
     "shell.execute_reply.started": "2021-08-22T03:16:42.205485Z"
    }
   },
   "outputs": [],
   "source": [
    "x_train_cat = le.fit_transform(x_train.cat_id.values)\n",
    "x_test_cat = le.transform(x_test.cat_id.values)"
   ]
  },
  {
   "cell_type": "code",
   "execution_count": 27,
   "metadata": {
    "execution": {
     "iopub.execute_input": "2021-08-22T03:16:51.991242Z",
     "iopub.status.busy": "2021-08-22T03:16:51.991010Z",
     "iopub.status.idle": "2021-08-22T03:17:01.867012Z",
     "shell.execute_reply": "2021-08-22T03:17:01.865997Z",
     "shell.execute_reply.started": "2021-08-22T03:16:51.991213Z"
    }
   },
   "outputs": [],
   "source": [
    "x_train_store_cat = le.fit_transform(x_train.store_id.values)\n",
    "x_test_store_cat = le.transform(x_test.store_id.values)"
   ]
  },
  {
   "cell_type": "code",
   "execution_count": 28,
   "metadata": {
    "execution": {
     "iopub.execute_input": "2021-08-22T03:17:01.869180Z",
     "iopub.status.busy": "2021-08-22T03:17:01.868908Z",
     "iopub.status.idle": "2021-08-22T03:17:11.607883Z",
     "shell.execute_reply": "2021-08-22T03:17:11.607006Z",
     "shell.execute_reply.started": "2021-08-22T03:17:01.869149Z"
    }
   },
   "outputs": [],
   "source": [
    "x_train_state_cat = le.fit_transform(x_train.state_id.values)\n",
    "x_test_state_cat = le.transform(x_test.state_id.values)"
   ]
  },
  {
   "cell_type": "code",
   "execution_count": 29,
   "metadata": {
    "execution": {
     "iopub.execute_input": "2021-08-22T03:17:11.609069Z",
     "iopub.status.busy": "2021-08-22T03:17:11.608840Z",
     "iopub.status.idle": "2021-08-22T03:17:11.910141Z",
     "shell.execute_reply": "2021-08-22T03:17:11.909334Z",
     "shell.execute_reply.started": "2021-08-22T03:17:11.609047Z"
    }
   },
   "outputs": [],
   "source": [
    "x_train['dept_id'] = x_train_dept_cat\n",
    "x_test['dept_id'] = x_test_dept_cat\n",
    "\n",
    "x_train['cat_id'] = x_train_cat\n",
    "x_test['cat_id'] = x_test_cat\n",
    "\n",
    "x_train['store_id'] = x_train_store_cat\n",
    "x_test['store_id'] = x_test_store_cat\n",
    "\n",
    "x_train['state_id'] = x_train_state_cat\n",
    "x_test['state_id'] = x_test_state_cat"
   ]
  },
  {
   "cell_type": "code",
   "execution_count": 30,
   "metadata": {
    "execution": {
     "iopub.execute_input": "2021-08-22T03:17:11.911646Z",
     "iopub.status.busy": "2021-08-22T03:17:11.911342Z",
     "iopub.status.idle": "2021-08-22T03:17:11.919530Z",
     "shell.execute_reply": "2021-08-22T03:17:11.918685Z",
     "shell.execute_reply.started": "2021-08-22T03:17:11.911615Z"
    }
   },
   "outputs": [],
   "source": [
    "del x_train_dept_cat,x_train_cat,x_train_store_cat,x_train_state_cat"
   ]
  },
  {
   "cell_type": "code",
   "execution_count": 31,
   "metadata": {
    "execution": {
     "iopub.execute_input": "2021-08-22T03:17:11.921113Z",
     "iopub.status.busy": "2021-08-22T03:17:11.920669Z",
     "iopub.status.idle": "2021-08-22T03:17:11.940255Z",
     "shell.execute_reply": "2021-08-22T03:17:11.939288Z",
     "shell.execute_reply.started": "2021-08-22T03:17:11.921080Z"
    }
   },
   "outputs": [],
   "source": [
    "del x_test_dept_cat,x_test_cat,x_test_store_cat,x_test_state_cat"
   ]
  },
  {
   "cell_type": "code",
   "execution_count": 32,
   "metadata": {
    "execution": {
     "iopub.execute_input": "2021-08-22T03:17:11.941845Z",
     "iopub.status.busy": "2021-08-22T03:17:11.941507Z",
     "iopub.status.idle": "2021-08-22T03:17:12.206651Z",
     "shell.execute_reply": "2021-08-22T03:17:12.205741Z",
     "shell.execute_reply.started": "2021-08-22T03:17:11.941813Z"
    }
   },
   "outputs": [],
   "source": [
    "for i in ['item_id','event_name_1','event_type_1','event_name_2','event_type_2']:\n",
    "    x_train[i] = x_train[i].astype('int16')"
   ]
  },
  {
   "cell_type": "code",
   "execution_count": 33,
   "metadata": {
    "execution": {
     "iopub.execute_input": "2021-08-22T03:17:12.208573Z",
     "iopub.status.busy": "2021-08-22T03:17:12.208020Z",
     "iopub.status.idle": "2021-08-22T03:17:12.372347Z",
     "shell.execute_reply": "2021-08-22T03:17:12.371362Z",
     "shell.execute_reply.started": "2021-08-22T03:17:12.208534Z"
    }
   },
   "outputs": [],
   "source": [
    "for i in ['dept_id','cat_id','store_id','state_id']:\n",
    "    x_train[i] = x_train[i].astype('int8')"
   ]
  },
  {
   "cell_type": "code",
   "execution_count": 34,
   "metadata": {
    "execution": {
     "iopub.execute_input": "2021-08-22T03:17:12.373922Z",
     "iopub.status.busy": "2021-08-22T03:17:12.373506Z",
     "iopub.status.idle": "2021-08-22T03:17:12.433225Z",
     "shell.execute_reply": "2021-08-22T03:17:12.432054Z",
     "shell.execute_reply.started": "2021-08-22T03:17:12.373881Z"
    }
   },
   "outputs": [],
   "source": [
    "for i in ['item_id','event_name_1','event_type_1','event_name_2','event_type_2']:\n",
    "    x_test[i] = x_test[i].astype('int16')"
   ]
  },
  {
   "cell_type": "code",
   "execution_count": 35,
   "metadata": {
    "execution": {
     "iopub.execute_input": "2021-08-22T03:17:12.435159Z",
     "iopub.status.busy": "2021-08-22T03:17:12.434846Z",
     "iopub.status.idle": "2021-08-22T03:17:12.477286Z",
     "shell.execute_reply": "2021-08-22T03:17:12.475892Z",
     "shell.execute_reply.started": "2021-08-22T03:17:12.435130Z"
    }
   },
   "outputs": [],
   "source": [
    "for i in ['dept_id','cat_id','store_id','state_id']:\n",
    "    x_test[i] = x_test[i].astype('int8')"
   ]
  },
  {
   "cell_type": "code",
   "execution_count": 36,
   "metadata": {
    "execution": {
     "iopub.execute_input": "2021-08-22T03:17:12.479044Z",
     "iopub.status.busy": "2021-08-22T03:17:12.478652Z",
     "iopub.status.idle": "2021-08-22T03:17:47.491363Z",
     "shell.execute_reply": "2021-08-22T03:17:47.490166Z",
     "shell.execute_reply.started": "2021-08-22T03:17:12.479006Z"
    }
   },
   "outputs": [],
   "source": [
    "x_train_1,x_train_2,y_train_1,y_train_2 = train_test_split(x_train, y_train, test_size=0.5, random_state=42)"
   ]
  },
  {
   "cell_type": "code",
   "execution_count": 37,
   "metadata": {
    "execution": {
     "iopub.execute_input": "2021-08-22T03:17:47.492819Z",
     "iopub.status.busy": "2021-08-22T03:17:47.492571Z",
     "iopub.status.idle": "2021-08-22T03:17:47.502939Z",
     "shell.execute_reply": "2021-08-22T03:17:47.501853Z",
     "shell.execute_reply.started": "2021-08-22T03:17:47.492792Z"
    }
   },
   "outputs": [],
   "source": [
    "del x_train"
   ]
  },
  {
   "cell_type": "code",
   "execution_count": 38,
   "metadata": {
    "execution": {
     "iopub.execute_input": "2021-08-22T03:17:47.504224Z",
     "iopub.status.busy": "2021-08-22T03:17:47.504013Z",
     "iopub.status.idle": "2021-08-22T03:17:47.525159Z",
     "shell.execute_reply": "2021-08-22T03:17:47.524471Z",
     "shell.execute_reply.started": "2021-08-22T03:17:47.504203Z"
    }
   },
   "outputs": [],
   "source": [
    "del y_train"
   ]
  },
  {
   "cell_type": "code",
   "execution_count": 39,
   "metadata": {
    "execution": {
     "iopub.execute_input": "2021-08-22T03:17:47.526601Z",
     "iopub.status.busy": "2021-08-22T03:17:47.526175Z",
     "iopub.status.idle": "2021-08-22T03:17:47.545229Z",
     "shell.execute_reply": "2021-08-22T03:17:47.544307Z",
     "shell.execute_reply.started": "2021-08-22T03:17:47.526564Z"
    }
   },
   "outputs": [],
   "source": [
    "#function to calculate assymmetric rmse,custom metric function\n",
    "def armse(y_act,y_pred):\n",
    "    score=0\n",
    "    n = len(y_act)\n",
    "    diff = np.array(y_pred) - np.array(y_act)\n",
    "    for ele in diff:\n",
    "        if ele<0:\n",
    "            score += 4*(ele**2)\n",
    "        else:\n",
    "            score += ele**2\n",
    "    return np.sqrt(score/n)"
   ]
  },
  {
   "cell_type": "code",
   "execution_count": 40,
   "metadata": {
    "execution": {
     "iopub.execute_input": "2021-08-22T03:17:47.547231Z",
     "iopub.status.busy": "2021-08-22T03:17:47.546930Z",
     "iopub.status.idle": "2021-08-22T03:21:51.218922Z",
     "shell.execute_reply": "2021-08-22T03:21:51.218077Z",
     "shell.execute_reply.started": "2021-08-22T03:17:47.547201Z"
    }
   },
   "outputs": [],
   "source": [
    "dt = DecisionTreeRegressor(max_depth=11,min_samples_split=3,random_state=0)\n",
    "dt.fit(x_train_1,y_train_1)\n",
    "y_pred2_dt = dt.predict(x_train_2)\n",
    "y_test_dt = dt.predict(x_test)"
   ]
  },
  {
   "cell_type": "code",
   "execution_count": 41,
   "metadata": {
    "execution": {
     "iopub.execute_input": "2021-08-22T03:21:51.220098Z",
     "iopub.status.busy": "2021-08-22T03:21:51.219838Z",
     "iopub.status.idle": "2021-08-22T04:28:25.714935Z",
     "shell.execute_reply": "2021-08-22T04:28:25.713373Z",
     "shell.execute_reply.started": "2021-08-22T03:21:51.220075Z"
    }
   },
   "outputs": [],
   "source": [
    "rf = RandomForestRegressor(n_estimators=64,max_depth=12,min_samples_split=6,random_state=0,n_jobs=-1)\n",
    "rf.fit(x_train_1,y_train_1)\n",
    "y_pred2_rf = rf.predict(x_train_2)\n",
    "y_test_rf = rf.predict(x_test)"
   ]
  },
  {
   "cell_type": "code",
   "execution_count": 42,
   "metadata": {
    "execution": {
     "iopub.execute_input": "2021-08-22T04:28:25.717002Z",
     "iopub.status.busy": "2021-08-22T04:28:25.716717Z",
     "iopub.status.idle": "2021-08-22T05:32:33.467638Z",
     "shell.execute_reply": "2021-08-22T05:32:33.466507Z",
     "shell.execute_reply.started": "2021-08-22T04:28:25.716976Z"
    }
   },
   "outputs": [],
   "source": [
    "xgb = XGBRegressor(learning_rate=0.140999404993131, max_depth=9, n_estimators=56,n_jobs=-1)\n",
    "xgb.fit(x_train_1,y_train_1)\n",
    "y_pred2_xgb = xgb.predict(x_train_2)\n",
    "y_test_xgb = xgb.predict(x_test)"
   ]
  },
  {
   "cell_type": "code",
   "execution_count": 43,
   "metadata": {
    "execution": {
     "iopub.execute_input": "2021-08-22T05:32:33.469326Z",
     "iopub.status.busy": "2021-08-22T05:32:33.469063Z",
     "iopub.status.idle": "2021-08-22T05:34:41.144820Z",
     "shell.execute_reply": "2021-08-22T05:34:41.144205Z",
     "shell.execute_reply.started": "2021-08-22T05:32:33.469297Z"
    }
   },
   "outputs": [],
   "source": [
    "lgbm = LGBMRegressor(learning_rate=0.26661528358747144, max_depth=8, n_estimators=90, n_jobs=-1)\n",
    "lgbm.fit(x_train_1,y_train_1)\n",
    "y_pred2_lgbm = lgbm.predict(x_train_2)\n",
    "y_test_lgbm = lgbm.predict(x_test)"
   ]
  },
  {
   "cell_type": "code",
   "execution_count": 44,
   "metadata": {
    "execution": {
     "iopub.execute_input": "2021-08-22T05:34:41.146241Z",
     "iopub.status.busy": "2021-08-22T05:34:41.145773Z",
     "iopub.status.idle": "2021-08-22T06:03:44.130971Z",
     "shell.execute_reply": "2021-08-22T06:03:44.129953Z",
     "shell.execute_reply.started": "2021-08-22T05:34:41.146211Z"
    }
   },
   "outputs": [],
   "source": [
    "cat = CatBoostRegressor(learning_rate=0.55,depth=3,logging_level=\"Silent\")\n",
    "cat.fit(x_train_1,y_train_1)\n",
    "y_pred2_cat = cat.predict(x_train_2)\n",
    "y_test_cat = cat.predict(x_test)"
   ]
  },
  {
   "cell_type": "code",
   "execution_count": 45,
   "metadata": {
    "execution": {
     "iopub.execute_input": "2021-08-22T06:03:44.132065Z",
     "iopub.status.busy": "2021-08-22T06:03:44.131801Z",
     "iopub.status.idle": "2021-08-22T06:03:44.527805Z",
     "shell.execute_reply": "2021-08-22T06:03:44.526896Z",
     "shell.execute_reply.started": "2021-08-22T06:03:44.132041Z"
    }
   },
   "outputs": [],
   "source": [
    "x_train_meta = np.vstack((y_pred2_dt,y_pred2_rf,y_pred2_xgb,y_pred2_lgbm,y_pred2_cat)).T\n",
    "x_test_meta = np.vstack((y_test_dt,y_test_rf,y_test_xgb,y_test_lgbm,y_test_cat)).T"
   ]
  },
  {
   "cell_type": "markdown",
   "metadata": {},
   "source": [
    "### **Linear Regression metamodel**"
   ]
  },
  {
   "cell_type": "code",
   "execution_count": 46,
   "metadata": {
    "execution": {
     "iopub.execute_input": "2021-08-22T06:03:44.528816Z",
     "iopub.status.busy": "2021-08-22T06:03:44.528584Z",
     "iopub.status.idle": "2021-08-22T06:03:46.550811Z",
     "shell.execute_reply": "2021-08-22T06:03:46.550101Z",
     "shell.execute_reply.started": "2021-08-22T06:03:44.528794Z"
    }
   },
   "outputs": [],
   "source": [
    "lr = LinearRegression(n_jobs=-1)\n",
    "lr.fit(x_train_meta,y_train_2)\n",
    "y_train_meta = lr.predict(x_train_meta)\n",
    "y_test_meta = lr.predict(x_test_meta)"
   ]
  },
  {
   "cell_type": "code",
   "execution_count": 47,
   "metadata": {
    "execution": {
     "iopub.execute_input": "2021-08-22T06:03:46.552452Z",
     "iopub.status.busy": "2021-08-22T06:03:46.552024Z",
     "iopub.status.idle": "2021-08-22T06:04:47.163551Z",
     "shell.execute_reply": "2021-08-22T06:04:47.162651Z",
     "shell.execute_reply.started": "2021-08-22T06:03:46.552420Z"
    }
   },
   "outputs": [],
   "source": [
    "rmse_train = mse(y_train_2,y_train_meta,squared=False)\n",
    "armse_train = armse(y_train_2,y_train_meta)\n",
    "rmse_test = mse(y_test,y_test_meta,squared=False)\n",
    "armse_test = armse(y_test,y_test_meta)"
   ]
  },
  {
   "cell_type": "code",
   "execution_count": 48,
   "metadata": {
    "execution": {
     "iopub.execute_input": "2021-08-22T06:04:47.165164Z",
     "iopub.status.busy": "2021-08-22T06:04:47.164800Z",
     "iopub.status.idle": "2021-08-22T06:04:47.171051Z",
     "shell.execute_reply": "2021-08-22T06:04:47.170438Z",
     "shell.execute_reply.started": "2021-08-22T06:04:47.165128Z"
    }
   },
   "outputs": [
    {
     "name": "stdout",
     "output_type": "stream",
     "text": [
      "Train: RMSE 1.8219553770324861 ARMSE 3.0875350801387773\n",
      "Test: RMSE 1.8327137731488883 ARMSE 3.1106562614702455\n"
     ]
    }
   ],
   "source": [
    "print('Train: RMSE {} ARMSE {}'.format(rmse_train,armse_train))\n",
    "print('Test: RMSE {} ARMSE {}'.format(rmse_test,armse_test))"
   ]
  },
  {
   "cell_type": "markdown",
   "metadata": {},
   "source": [
    "### **LGBM metamodel**"
   ]
  },
  {
   "cell_type": "code",
   "execution_count": 52,
   "metadata": {
    "execution": {
     "iopub.execute_input": "2021-08-22T06:44:09.638505Z",
     "iopub.status.busy": "2021-08-22T06:44:09.638118Z",
     "iopub.status.idle": "2021-08-22T06:54:12.939208Z",
     "shell.execute_reply": "2021-08-22T06:54:12.938481Z",
     "shell.execute_reply.started": "2021-08-22T06:44:09.638468Z"
    }
   },
   "outputs": [
    {
     "name": "stderr",
     "output_type": "stream",
     "text": [
      " 20%|██        | 1/5 [02:30<10:01, 150.43s/it]"
     ]
    },
    {
     "name": "stdout",
     "output_type": "stream",
     "text": [
      "n_estimators 96 max_depth 6 learning_rate 0.20753827078765896\n",
      "Train: RMSE 1.8801581017361118 ARMSE 3.2065123002974736\n",
      "Test: RMSE 1.9244260549011638 ARMSE 3.283624039531873\n"
     ]
    },
    {
     "name": "stderr",
     "output_type": "stream",
     "text": [
      " 40%|████      | 2/5 [04:29<06:35, 131.84s/it]"
     ]
    },
    {
     "name": "stdout",
     "output_type": "stream",
     "text": [
      "n_estimators 62 max_depth 9 learning_rate 0.26084700446759373\n",
      "Train: RMSE 1.8803602919746554 ARMSE 3.2070156177109452\n",
      "Test: RMSE 1.925361088850505 ARMSE 3.2858934992768054\n"
     ]
    },
    {
     "name": "stderr",
     "output_type": "stream",
     "text": [
      " 60%|██████    | 3/5 [06:21<04:05, 122.73s/it]"
     ]
    },
    {
     "name": "stdout",
     "output_type": "stream",
     "text": [
      "n_estimators 91 max_depth 8 learning_rate 0.30110023171353717\n",
      "Train: RMSE 1.8763145426811887 ARMSE 3.1977594072580695\n",
      "Test: RMSE 1.926117993688346 ARMSE 3.285551630254249\n"
     ]
    },
    {
     "name": "stderr",
     "output_type": "stream",
     "text": [
      " 80%|████████  | 4/5 [08:33<02:06, 126.47s/it]"
     ]
    },
    {
     "name": "stdout",
     "output_type": "stream",
     "text": [
      "n_estimators 61 max_depth 7 learning_rate 0.8329282892922588\n",
      "Train: RMSE 1.8728021820041758 ARMSE 3.187133114522237\n",
      "Test: RMSE 1.933608907514247 ARMSE 3.29472083137263\n"
     ]
    },
    {
     "name": "stderr",
     "output_type": "stream",
     "text": [
      "100%|██████████| 5/5 [10:03<00:00, 120.66s/it]"
     ]
    },
    {
     "name": "stdout",
     "output_type": "stream",
     "text": [
      "n_estimators 53 max_depth 9 learning_rate 0.8614458405145404\n",
      "Train: RMSE 1.8734602459271434 ARMSE 3.188498470559769\n",
      "Test: RMSE 1.9317071048384653 ARMSE 3.2900850732881235\n"
     ]
    },
    {
     "name": "stderr",
     "output_type": "stream",
     "text": [
      "\n"
     ]
    }
   ],
   "source": [
    "for i in tqdm(range(5)):\n",
    "    learning_rate = random.uniform(0.1,0.9)\n",
    "    max_depth = random.sample(range(5,10),1)[0]\n",
    "    n_estimators = random.sample(range(50,100),1)[0]\n",
    "    lgbm_meta = LGBMRegressor(learning_rate=learning_rate, max_depth=max_depth, n_estimators=n_estimators, n_jobs=-1)\n",
    "    lgbm_meta.fit(x_train_meta,y_train_2)\n",
    "    y_train_metal = lgbm_meta.predict(x_train_meta)\n",
    "    y_test_metal = lgbm_meta.predict(x_test_meta)\n",
    "\n",
    "    rmse_trainl = mse(y_train_2,y_train_metal,squared=False)\n",
    "    armse_trainl = armse(y_train_2,y_train_metal)\n",
    "    rmse_testl = mse(y_test,y_test_metal,squared=False)\n",
    "    armse_testl = armse(y_test,y_test_metal)\n",
    "\n",
    "    print('n_estimators {} max_depth {} learning_rate {}'.format(n_estimators,max_depth,learning_rate))\n",
    "    print('Train: RMSE {} ARMSE {}'.format(rmse_trainl,armse_trainl))\n",
    "    print('Test: RMSE {} ARMSE {}'.format(rmse_testl,armse_testl))"
   ]
  },
  {
   "cell_type": "code",
   "execution_count": 55,
   "metadata": {
    "execution": {
     "iopub.execute_input": "2021-08-22T07:25:57.258087Z",
     "iopub.status.busy": "2021-08-22T07:25:57.257720Z",
     "iopub.status.idle": "2021-08-22T07:34:43.804165Z",
     "shell.execute_reply": "2021-08-22T07:34:43.803415Z",
     "shell.execute_reply.started": "2021-08-22T07:25:57.258057Z"
    }
   },
   "outputs": [
    {
     "name": "stderr",
     "output_type": "stream",
     "text": [
      " 20%|██        | 1/5 [01:59<07:59, 119.95s/it]"
     ]
    },
    {
     "name": "stdout",
     "output_type": "stream",
     "text": [
      "n_estimators 0.4146175890124124\n",
      "Train: RMSE 1.8275683147169144 ARMSE 3.1593565926409695\n",
      "Test: RMSE 1.835770890723141 ARMSE 3.1783777994338487\n"
     ]
    },
    {
     "name": "stderr",
     "output_type": "stream",
     "text": [
      " 40%|████      | 2/5 [03:49<05:40, 113.66s/it]"
     ]
    },
    {
     "name": "stdout",
     "output_type": "stream",
     "text": [
      "n_estimators 0.11105005845304304\n",
      "Train: RMSE 1.8235769088833396 ARMSE 3.107993311110767\n",
      "Test: RMSE 1.8316917287528112 ARMSE 3.126542613251512\n"
     ]
    },
    {
     "name": "stderr",
     "output_type": "stream",
     "text": [
      " 60%|██████    | 3/5 [05:38<03:43, 111.76s/it]"
     ]
    },
    {
     "name": "stdout",
     "output_type": "stream",
     "text": [
      "n_estimators 0.22564883162655983\n",
      "Train: RMSE 1.8245442702911896 ARMSE 3.126712880096213\n",
      "Test: RMSE 1.8326885282811196 ARMSE 3.145437028703332\n"
     ]
    },
    {
     "name": "stderr",
     "output_type": "stream",
     "text": [
      " 80%|████████  | 4/5 [07:12<01:44, 104.70s/it]"
     ]
    },
    {
     "name": "stdout",
     "output_type": "stream",
     "text": [
      "n_estimators 0.43637860644238624\n",
      "Train: RMSE 1.8280304571262973 ARMSE 3.1632572644208956\n",
      "Test: RMSE 1.8362405326582416 ARMSE 3.1823132514984103\n"
     ]
    },
    {
     "name": "stderr",
     "output_type": "stream",
     "text": [
      "100%|██████████| 5/5 [08:46<00:00, 105.31s/it]"
     ]
    },
    {
     "name": "stdout",
     "output_type": "stream",
     "text": [
      "n_estimators 0.2676885500435674\n",
      "Train: RMSE 1.8250633037539488 ARMSE 3.133784084267938\n",
      "Test: RMSE 1.833219530525953 ARMSE 3.1525734004683303\n"
     ]
    },
    {
     "name": "stderr",
     "output_type": "stream",
     "text": [
      "\n"
     ]
    }
   ],
   "source": [
    "from sklearn.linear_model import Lasso\n",
    "for i in tqdm(range(5)):\n",
    "    alpha = random.uniform(0.1,0.5)\n",
    "    ls = Lasso(alpha=alpha,random_state=0)\n",
    "    ls.fit(x_train_meta,y_train_2)\n",
    "    y_train_metal = ls.predict(x_train_meta)\n",
    "    y_test_metal = ls.predict(x_test_meta)\n",
    "\n",
    "    rmse_trainl = mse(y_train_2,y_train_metal,squared=False)\n",
    "    armse_trainl = armse(y_train_2,y_train_metal)\n",
    "    rmse_testl = mse(y_test,y_test_metal,squared=False)\n",
    "    armse_testl = armse(y_test,y_test_metal)\n",
    "\n",
    "    print('n_estimators {}'.format(alpha))\n",
    "    print('Train: RMSE {} ARMSE {}'.format(rmse_trainl,armse_trainl))\n",
    "    print('Test: RMSE {} ARMSE {}'.format(rmse_testl,armse_testl))"
   ]
  },
  {
   "cell_type": "markdown",
   "metadata": {},
   "source": [
    "1. RMSE of custom stacking regressor is greater as compared to some first cut single models such as LGBM regressor"
   ]
  }
 ],
 "metadata": {
  "kernelspec": {
   "display_name": "Python 3",
   "language": "python",
   "name": "python3"
  },
  "language_info": {
   "codemirror_mode": {
    "name": "ipython",
    "version": 3
   },
   "file_extension": ".py",
   "mimetype": "text/x-python",
   "name": "python",
   "nbconvert_exporter": "python",
   "pygments_lexer": "ipython3",
   "version": "3.6.5"
  }
 },
 "nbformat": 4,
 "nbformat_minor": 4
}

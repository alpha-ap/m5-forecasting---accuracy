{
 "cells": [
  {
   "cell_type": "code",
   "execution_count": 1,
   "metadata": {
    "execution": {
     "iopub.execute_input": "2021-08-18T16:40:33.213852Z",
     "iopub.status.busy": "2021-08-18T16:40:33.213259Z",
     "iopub.status.idle": "2021-08-18T16:40:36.058575Z",
     "shell.execute_reply": "2021-08-18T16:40:36.057460Z",
     "shell.execute_reply.started": "2021-08-18T16:40:33.213726Z"
    }
   },
   "outputs": [
    {
     "data": {
      "text/html": [
       "<style type='text/css'>\n",
       ".datatable table.frame { margin-bottom: 0; }\n",
       ".datatable table.frame thead { border-bottom: none; }\n",
       ".datatable table.frame tr.coltypes td {  color: #FFFFFF;  line-height: 6px;  padding: 0 0.5em;}\n",
       ".datatable .bool    { background: #DDDD99; }\n",
       ".datatable .object  { background: #565656; }\n",
       ".datatable .int     { background: #5D9E5D; }\n",
       ".datatable .float   { background: #4040CC; }\n",
       ".datatable .str     { background: #CC4040; }\n",
       ".datatable .row_index {  background: var(--jp-border-color3);  border-right: 1px solid var(--jp-border-color0);  color: var(--jp-ui-font-color3);  font-size: 9px;}\n",
       ".datatable .frame tr.coltypes .row_index {  background: var(--jp-border-color0);}\n",
       ".datatable th:nth-child(2) { padding-left: 12px; }\n",
       ".datatable .hellipsis {  color: var(--jp-cell-editor-border-color);}\n",
       ".datatable .vellipsis {  background: var(--jp-layout-color0);  color: var(--jp-cell-editor-border-color);}\n",
       ".datatable .na {  color: var(--jp-cell-editor-border-color);  font-size: 80%;}\n",
       ".datatable .footer { font-size: 9px; }\n",
       ".datatable .frame_dimensions {  background: var(--jp-border-color3);  border-top: 1px solid var(--jp-border-color0);  color: var(--jp-ui-font-color3);  display: inline-block;  opacity: 0.6;  padding: 1px 10px 1px 5px;}\n",
       "</style>\n"
      ],
      "text/plain": [
       "<IPython.core.display.HTML object>"
      ]
     },
     "metadata": {},
     "output_type": "display_data"
    }
   ],
   "source": [
    "import pandas as pd\n",
    "import numpy as np\n",
    "import random\n",
    "from tqdm import tqdm\n",
    "from sklearn.metrics import mean_squared_error as mse\n",
    "from sklearn.ensemble import RandomForestRegressor\n",
    "from xgboost import XGBRegressor\n",
    "from lightgbm import LGBMRegressor\n",
    "from matplotlib import pyplot as plt\n",
    "from catboost import CatBoostRegressor"
   ]
  },
  {
   "cell_type": "code",
   "execution_count": 2,
   "metadata": {
    "execution": {
     "iopub.execute_input": "2021-08-18T16:40:36.060641Z",
     "iopub.status.busy": "2021-08-18T16:40:36.060278Z",
     "iopub.status.idle": "2021-08-18T16:40:48.804934Z",
     "shell.execute_reply": "2021-08-18T16:40:48.803816Z",
     "shell.execute_reply.started": "2021-08-18T16:40:36.060608Z"
    }
   },
   "outputs": [],
   "source": [
    "cal_df = pd.read_csv('../input/m5-forecasting-accuracy/calendar.csv')\n",
    "prices_df = pd.read_csv('../input/m5-forecasting-accuracy/sell_prices.csv')\n",
    "sales_df_wide = pd.read_csv('../input/m5-forecasting-accuracy/sales_train_evaluation.csv')"
   ]
  },
  {
   "cell_type": "markdown",
   "metadata": {},
   "source": [
    "## **Data Preprocessing**"
   ]
  },
  {
   "cell_type": "code",
   "execution_count": 3,
   "metadata": {
    "execution": {
     "iopub.execute_input": "2021-08-18T16:40:48.807289Z",
     "iopub.status.busy": "2021-08-18T16:40:48.806948Z",
     "iopub.status.idle": "2021-08-18T16:40:48.846558Z",
     "shell.execute_reply": "2021-08-18T16:40:48.845045Z",
     "shell.execute_reply.started": "2021-08-18T16:40:48.807259Z"
    }
   },
   "outputs": [],
   "source": [
    "#there are many NaN values in event_name and event_type fields\n",
    "#Filling them with 'NoEvent' and 'None' resp\n",
    "cal_df['event_name_1'].fillna('NoEvent',inplace=True)\n",
    "cal_df['event_type_1'].fillna('None',inplace=True)\n",
    "cal_df['event_name_2'].fillna('NoEvent',inplace=True)\n",
    "cal_df['event_type_2'].fillna('None',inplace=True)\n",
    "#dropping redundant columns and changing datatypes to reduce memory usage\n",
    "cal_df.drop(['date','weekday'],axis=1,inplace=True)\n",
    "cal_df['wm_yr_wk'] = cal_df.wm_yr_wk.astype('int16')\n",
    "cal_df['d'] = cal_df.d.str[2:].astype('int16')\n",
    "for col in ['wday','month','snap_CA','snap_TX','snap_WI']:\n",
    "    cal_df[col] = cal_df[col].astype('int8')\n",
    "for col in ['event_name_1','event_type_1','event_name_2','event_type_2']:\n",
    "    cal_df[col] = cal_df[col].astype('category')"
   ]
  },
  {
   "cell_type": "code",
   "execution_count": 4,
   "metadata": {
    "execution": {
     "iopub.execute_input": "2021-08-18T16:40:48.848798Z",
     "iopub.status.busy": "2021-08-18T16:40:48.848458Z",
     "iopub.status.idle": "2021-08-18T16:40:50.139089Z",
     "shell.execute_reply": "2021-08-18T16:40:50.137945Z",
     "shell.execute_reply.started": "2021-08-18T16:40:48.848767Z"
    }
   },
   "outputs": [],
   "source": [
    "# changing datatypes to reduce memory usage\n",
    "prices_df['store_id'] = prices_df.store_id.astype('category')\n",
    "prices_df['item_id'] = prices_df.item_id.astype('category')\n",
    "prices_df['wm_yr_wk'] = prices_df.wm_yr_wk.astype('int16')\n",
    "prices_df['sell_price'] = prices_df.sell_price.astype('float16')"
   ]
  },
  {
   "cell_type": "code",
   "execution_count": 5,
   "metadata": {
    "execution": {
     "iopub.execute_input": "2021-08-18T16:40:50.140895Z",
     "iopub.status.busy": "2021-08-18T16:40:50.140598Z",
     "iopub.status.idle": "2021-08-18T16:42:45.563279Z",
     "shell.execute_reply": "2021-08-18T16:42:45.561881Z",
     "shell.execute_reply.started": "2021-08-18T16:40:50.140866Z"
    }
   },
   "outputs": [],
   "source": [
    "#adding columns 'd_1942'...'d_1969' as we have to predict unit sales for these days and assigning value 0\n",
    "for i in range(1942,1970):\n",
    "    sales_df_wide['d_'+str(i)] = 0\n",
    "#converting the wide-form data frame to long-form so that columns from other 2 data frames can be merged\n",
    "train_df = pd.melt(sales_df_wide,id_vars=['id','item_id','dept_id','cat_id','store_id','state_id'],\\\n",
    "                   var_name='d',value_name='units_sold')\n",
    "# changing datatypes to reduce memory usage\n",
    "train_df['d'] = train_df.d.str[2:].astype('int16')\n",
    "train_df['units_sold'] = train_df.units_sold.astype('int16')\n",
    "for col in ['id','item_id','dept_id','cat_id','store_id','state_id']:\n",
    "  train_df[col] = train_df[col].astype('category')    "
   ]
  },
  {
   "cell_type": "code",
   "execution_count": 6,
   "metadata": {
    "execution": {
     "iopub.execute_input": "2021-08-18T16:42:45.565287Z",
     "iopub.status.busy": "2021-08-18T16:42:45.564968Z",
     "iopub.status.idle": "2021-08-18T16:43:16.098001Z",
     "shell.execute_reply": "2021-08-18T16:43:16.096747Z",
     "shell.execute_reply.started": "2021-08-18T16:42:45.565257Z"
    }
   },
   "outputs": [],
   "source": [
    "#merging with 'cal_df'\n",
    "train_df = pd.merge(train_df,cal_df,on='d',how='left')\n",
    "#merging with 'prices_df'\n",
    "train_df = pd.merge(train_df,prices_df,on=['item_id','store_id','wm_yr_wk'],how='left')"
   ]
  },
  {
   "cell_type": "code",
   "execution_count": 7,
   "metadata": {
    "execution": {
     "iopub.execute_input": "2021-08-18T16:43:16.099584Z",
     "iopub.status.busy": "2021-08-18T16:43:16.099271Z",
     "iopub.status.idle": "2021-08-18T16:43:16.112793Z",
     "shell.execute_reply": "2021-08-18T16:43:16.111563Z",
     "shell.execute_reply.started": "2021-08-18T16:43:16.099556Z"
    }
   },
   "outputs": [],
   "source": [
    "del cal_df,prices_df,sales_df_wide"
   ]
  },
  {
   "cell_type": "code",
   "execution_count": 8,
   "metadata": {
    "execution": {
     "iopub.execute_input": "2021-08-18T16:43:16.115671Z",
     "iopub.status.busy": "2021-08-18T16:43:16.114997Z",
     "iopub.status.idle": "2021-08-18T16:43:19.600114Z",
     "shell.execute_reply": "2021-08-18T16:43:19.598689Z",
     "shell.execute_reply.started": "2021-08-18T16:43:16.115620Z"
    }
   },
   "outputs": [],
   "source": [
    "#sell_price data is not available for many rows. \n",
    "#For previous weeks filling this data by mean sell_prices for the item_id and store_id pair\n",
    "train_df['sell_price'].fillna(train_df.groupby(['store_id','item_id'])['sell_price'].transform('mean'),inplace=True)"
   ]
  },
  {
   "cell_type": "code",
   "execution_count": 9,
   "metadata": {
    "execution": {
     "iopub.execute_input": "2021-08-18T16:43:19.604456Z",
     "iopub.status.busy": "2021-08-18T16:43:19.604092Z",
     "iopub.status.idle": "2021-08-18T16:45:21.773029Z",
     "shell.execute_reply": "2021-08-18T16:45:21.771775Z",
     "shell.execute_reply.started": "2021-08-18T16:43:19.604423Z"
    }
   },
   "outputs": [],
   "source": [
    "#calculating lag features and filling NA values with 0\n",
    "for i in [7,14,21,28]:\n",
    "    train_df['lag_'+str(i)] = train_df.groupby('id')['units_sold'].transform(lambda x:x.shift(i))\n",
    "    train_df['lag_'+str(i)].fillna(0,inplace=True)"
   ]
  },
  {
   "cell_type": "code",
   "execution_count": 10,
   "metadata": {
    "execution": {
     "iopub.execute_input": "2021-08-18T16:45:21.774892Z",
     "iopub.status.busy": "2021-08-18T16:45:21.774575Z",
     "iopub.status.idle": "2021-08-18T16:48:28.214566Z",
     "shell.execute_reply": "2021-08-18T16:48:28.213075Z",
     "shell.execute_reply.started": "2021-08-18T16:45:21.774863Z"
    }
   },
   "outputs": [],
   "source": [
    "#ref:https://www.kaggle.com/kyakovlev/m5-lags-features\n",
    "#rolling window mean features and filling NA values with 0\n",
    "for i in [7,14]:\n",
    "    train_df['rolling_mean_'+str(i)] = train_df.groupby('id')['units_sold'].transform(lambda x:x.rolling(i).mean())\n",
    "    train_df['rolling_mean_'+str(i)].fillna(0,inplace=True)\n",
    "#rolling window meadion features and filling NA values with 0\n",
    "for i in [7,14]:\n",
    "    train_df['rolling_median_'+str(i)] = train_df.groupby('id')['units_sold'].transform(lambda x:x.rolling(i).median())\n",
    "    train_df['rolling_median_'+str(i)].fillna(0,inplace=True)"
   ]
  },
  {
   "cell_type": "code",
   "execution_count": 11,
   "metadata": {
    "execution": {
     "iopub.execute_input": "2021-08-18T16:48:28.216590Z",
     "iopub.status.busy": "2021-08-18T16:48:28.216256Z",
     "iopub.status.idle": "2021-08-18T16:48:34.650850Z",
     "shell.execute_reply": "2021-08-18T16:48:34.649800Z",
     "shell.execute_reply.started": "2021-08-18T16:48:28.216555Z"
    }
   },
   "outputs": [],
   "source": [
    "#dropping features 'wm_yr_wk' and 'year' as they are similar to 'd'\n",
    "train_df.drop(['wm_yr_wk','year'],axis=1,inplace=True)"
   ]
  },
  {
   "cell_type": "code",
   "execution_count": 12,
   "metadata": {
    "execution": {
     "iopub.execute_input": "2021-08-18T16:48:34.652630Z",
     "iopub.status.busy": "2021-08-18T16:48:34.652278Z",
     "iopub.status.idle": "2021-08-18T16:48:44.385185Z",
     "shell.execute_reply": "2021-08-18T16:48:44.383575Z",
     "shell.execute_reply.started": "2021-08-18T16:48:34.652598Z"
    }
   },
   "outputs": [],
   "source": [
    "for i in ['lag_7','lag_14','lag_21','lag_28','rolling_mean_7','rolling_mean_14','rolling_median_7','rolling_median_14']:\n",
    "    train_df[i] = train_df[i].astype('float16')"
   ]
  },
  {
   "cell_type": "code",
   "execution_count": 13,
   "metadata": {
    "execution": {
     "iopub.execute_input": "2021-08-18T16:50:09.620801Z",
     "iopub.status.busy": "2021-08-18T16:50:09.620212Z",
     "iopub.status.idle": "2021-08-18T16:50:21.425532Z",
     "shell.execute_reply": "2021-08-18T16:50:21.424471Z",
     "shell.execute_reply.started": "2021-08-18T16:50:09.620763Z"
    }
   },
   "outputs": [],
   "source": [
    "y_train = train_df.loc[train_df.d.isin(range(1000,1914))]['units_sold']\n",
    "y_test = train_df.loc[train_df.d.isin(range(1914,1942))]['units_sold']\n",
    "train_df.drop(['units_sold'],axis=1,inplace=True)\n",
    "x_train = train_df.loc[train_df.d.isin(range(1000,1914))]\n",
    "x_test = train_df.loc[train_df.d.isin(range(1914,1942))]"
   ]
  },
  {
   "cell_type": "code",
   "execution_count": 14,
   "metadata": {
    "execution": {
     "iopub.execute_input": "2021-08-18T16:50:43.133277Z",
     "iopub.status.busy": "2021-08-18T16:50:43.132794Z",
     "iopub.status.idle": "2021-08-18T16:50:43.153114Z",
     "shell.execute_reply": "2021-08-18T16:50:43.151500Z",
     "shell.execute_reply.started": "2021-08-18T16:50:43.133230Z"
    }
   },
   "outputs": [],
   "source": [
    "del train_df"
   ]
  },
  {
   "cell_type": "code",
   "execution_count": 15,
   "metadata": {
    "execution": {
     "iopub.execute_input": "2021-08-18T16:50:48.578275Z",
     "iopub.status.busy": "2021-08-18T16:50:48.577816Z",
     "iopub.status.idle": "2021-08-18T16:50:58.903383Z",
     "shell.execute_reply": "2021-08-18T16:50:58.902484Z",
     "shell.execute_reply.started": "2021-08-18T16:50:48.578240Z"
    }
   },
   "outputs": [],
   "source": [
    "from sklearn.preprocessing import LabelEncoder\n",
    "#feature encoding\n",
    "le = LabelEncoder()\n",
    "x_train_item_cat = le.fit_transform(x_train.item_id.values)\n",
    "x_test_item_cat = le.transform(x_test.item_id.values)"
   ]
  },
  {
   "cell_type": "code",
   "execution_count": 16,
   "metadata": {
    "execution": {
     "iopub.execute_input": "2021-08-18T16:50:58.905097Z",
     "iopub.status.busy": "2021-08-18T16:50:58.904800Z",
     "iopub.status.idle": "2021-08-18T16:51:11.464304Z",
     "shell.execute_reply": "2021-08-18T16:51:11.463324Z",
     "shell.execute_reply.started": "2021-08-18T16:50:58.905070Z"
    }
   },
   "outputs": [],
   "source": [
    "x_train_id_cat = le.fit_transform(x_train.id.values)\n",
    "x_test_id_cat = le.transform(x_test.id.values)"
   ]
  },
  {
   "cell_type": "code",
   "execution_count": 17,
   "metadata": {
    "execution": {
     "iopub.execute_input": "2021-08-18T16:51:11.466254Z",
     "iopub.status.busy": "2021-08-18T16:51:11.465970Z",
     "iopub.status.idle": "2021-08-18T16:51:21.315046Z",
     "shell.execute_reply": "2021-08-18T16:51:21.313877Z",
     "shell.execute_reply.started": "2021-08-18T16:51:11.466227Z"
    }
   },
   "outputs": [],
   "source": [
    "x_train_event_name_1 = le.fit_transform(x_train.event_name_1.values)\n",
    "x_test_event_name_1 = le.transform(x_test.event_name_1.values)"
   ]
  },
  {
   "cell_type": "code",
   "execution_count": 18,
   "metadata": {
    "execution": {
     "iopub.execute_input": "2021-08-18T16:51:21.318438Z",
     "iopub.status.busy": "2021-08-18T16:51:21.317941Z",
     "iopub.status.idle": "2021-08-18T16:51:31.219543Z",
     "shell.execute_reply": "2021-08-18T16:51:31.218523Z",
     "shell.execute_reply.started": "2021-08-18T16:51:21.318372Z"
    }
   },
   "outputs": [],
   "source": [
    "x_train_event_type_1 = le.fit_transform(x_train.event_type_1.values)\n",
    "x_test_event_type_1 = le.transform(x_test.event_type_1.values)"
   ]
  },
  {
   "cell_type": "code",
   "execution_count": 19,
   "metadata": {
    "execution": {
     "iopub.execute_input": "2021-08-18T16:51:31.221569Z",
     "iopub.status.busy": "2021-08-18T16:51:31.221115Z",
     "iopub.status.idle": "2021-08-18T16:51:41.174277Z",
     "shell.execute_reply": "2021-08-18T16:51:41.173224Z",
     "shell.execute_reply.started": "2021-08-18T16:51:31.221516Z"
    }
   },
   "outputs": [],
   "source": [
    "x_train_event_name_2 = le.fit_transform(x_train.event_name_2.values)\n",
    "x_test_event_name_2 = le.transform(x_test.event_name_2.values)"
   ]
  },
  {
   "cell_type": "code",
   "execution_count": 20,
   "metadata": {
    "execution": {
     "iopub.execute_input": "2021-08-18T16:51:41.176287Z",
     "iopub.status.busy": "2021-08-18T16:51:41.175629Z",
     "iopub.status.idle": "2021-08-18T16:51:51.017669Z",
     "shell.execute_reply": "2021-08-18T16:51:51.016567Z",
     "shell.execute_reply.started": "2021-08-18T16:51:41.176249Z"
    }
   },
   "outputs": [],
   "source": [
    "x_train_event_type_2 = le.fit_transform(x_train.event_type_2.values)\n",
    "x_test_event_type_2 = le.transform(x_test.event_type_2.values)"
   ]
  },
  {
   "cell_type": "code",
   "execution_count": 21,
   "metadata": {
    "execution": {
     "iopub.execute_input": "2021-08-18T16:51:51.019090Z",
     "iopub.status.busy": "2021-08-18T16:51:51.018800Z",
     "iopub.status.idle": "2021-08-18T16:52:00.868777Z",
     "shell.execute_reply": "2021-08-18T16:52:00.867692Z",
     "shell.execute_reply.started": "2021-08-18T16:51:51.019063Z"
    }
   },
   "outputs": [],
   "source": [
    "x_train_dept_cat = le.fit_transform(x_train.dept_id.values)\n",
    "x_test_dept_cat = le.transform(x_test.dept_id.values)"
   ]
  },
  {
   "cell_type": "code",
   "execution_count": 22,
   "metadata": {
    "execution": {
     "iopub.execute_input": "2021-08-18T16:52:00.872551Z",
     "iopub.status.busy": "2021-08-18T16:52:00.872053Z",
     "iopub.status.idle": "2021-08-18T16:52:10.791135Z",
     "shell.execute_reply": "2021-08-18T16:52:10.790014Z",
     "shell.execute_reply.started": "2021-08-18T16:52:00.872501Z"
    }
   },
   "outputs": [],
   "source": [
    "x_train_cat = le.fit_transform(x_train.cat_id.values)\n",
    "x_test_cat = le.transform(x_test.cat_id.values)"
   ]
  },
  {
   "cell_type": "code",
   "execution_count": 23,
   "metadata": {
    "execution": {
     "iopub.execute_input": "2021-08-18T16:52:10.793705Z",
     "iopub.status.busy": "2021-08-18T16:52:10.793224Z",
     "iopub.status.idle": "2021-08-18T16:52:20.651836Z",
     "shell.execute_reply": "2021-08-18T16:52:20.650842Z",
     "shell.execute_reply.started": "2021-08-18T16:52:10.793656Z"
    }
   },
   "outputs": [],
   "source": [
    "x_train_store_cat = le.fit_transform(x_train.store_id.values)\n",
    "x_test_store_cat = le.transform(x_test.store_id.values)"
   ]
  },
  {
   "cell_type": "code",
   "execution_count": 24,
   "metadata": {
    "execution": {
     "iopub.execute_input": "2021-08-18T16:52:20.653656Z",
     "iopub.status.busy": "2021-08-18T16:52:20.653189Z",
     "iopub.status.idle": "2021-08-18T16:52:30.529605Z",
     "shell.execute_reply": "2021-08-18T16:52:30.528534Z",
     "shell.execute_reply.started": "2021-08-18T16:52:20.653614Z"
    }
   },
   "outputs": [],
   "source": [
    "x_train_state_cat = le.fit_transform(x_train.state_id.values)\n",
    "x_test_state_cat = le.transform(x_test.state_id.values)"
   ]
  },
  {
   "cell_type": "code",
   "execution_count": 25,
   "metadata": {
    "execution": {
     "iopub.execute_input": "2021-08-18T16:52:30.531292Z",
     "iopub.status.busy": "2021-08-18T16:52:30.531006Z",
     "iopub.status.idle": "2021-08-18T16:52:31.119602Z",
     "shell.execute_reply": "2021-08-18T16:52:31.118605Z",
     "shell.execute_reply.started": "2021-08-18T16:52:30.531265Z"
    }
   },
   "outputs": [],
   "source": [
    "x_train['item_id'] = x_train_item_cat\n",
    "x_test['item_id'] = x_test_item_cat\n",
    "\n",
    "x_train['id'] = x_train_id_cat\n",
    "x_test['id'] = x_test_id_cat\n",
    "\n",
    "x_train['dept_id'] = x_train_dept_cat\n",
    "x_test['dept_id'] = x_test_dept_cat\n",
    "\n",
    "x_train['cat_id'] = x_train_cat\n",
    "x_test['cat_id'] = x_test_cat\n",
    "\n",
    "x_train['store_id'] = x_train_store_cat\n",
    "x_test['store_id'] = x_test_store_cat\n",
    "\n",
    "x_train['state_id'] = x_train_state_cat\n",
    "x_test['state_id'] = x_test_state_cat"
   ]
  },
  {
   "cell_type": "code",
   "execution_count": 26,
   "metadata": {
    "execution": {
     "iopub.execute_input": "2021-08-18T16:52:31.121531Z",
     "iopub.status.busy": "2021-08-18T16:52:31.121092Z",
     "iopub.status.idle": "2021-08-18T16:52:31.509871Z",
     "shell.execute_reply": "2021-08-18T16:52:31.508661Z",
     "shell.execute_reply.started": "2021-08-18T16:52:31.121487Z"
    }
   },
   "outputs": [],
   "source": [
    "x_train['event_name_1'] = x_train_event_name_1\n",
    "x_test['event_name_1'] = x_test_event_name_1\n",
    "\n",
    "x_train['event_type_1'] = x_train_event_type_1\n",
    "x_test['event_type_1'] = x_test_event_type_1\n",
    "\n",
    "x_train['event_name_2'] = x_train_event_name_2\n",
    "x_test['event_name_2'] = x_test_event_name_2\n",
    "\n",
    "x_train['event_type_2'] = x_train_event_type_2\n",
    "x_test['event_type_2'] = x_test_event_type_2"
   ]
  },
  {
   "cell_type": "code",
   "execution_count": 27,
   "metadata": {
    "execution": {
     "iopub.execute_input": "2021-08-18T16:52:31.511495Z",
     "iopub.status.busy": "2021-08-18T16:52:31.511166Z",
     "iopub.status.idle": "2021-08-18T16:52:31.524740Z",
     "shell.execute_reply": "2021-08-18T16:52:31.523530Z",
     "shell.execute_reply.started": "2021-08-18T16:52:31.511462Z"
    }
   },
   "outputs": [],
   "source": [
    "del x_train_item_cat,x_train_id_cat,x_train_event_name_1,x_train_event_type_1,x_train_event_name_2,x_train_event_type_2,x_train_dept_cat,x_train_cat,x_train_store_cat,x_train_state_cat"
   ]
  },
  {
   "cell_type": "code",
   "execution_count": 28,
   "metadata": {
    "execution": {
     "iopub.execute_input": "2021-08-18T16:52:31.526423Z",
     "iopub.status.busy": "2021-08-18T16:52:31.526095Z",
     "iopub.status.idle": "2021-08-18T16:52:31.538843Z",
     "shell.execute_reply": "2021-08-18T16:52:31.537581Z",
     "shell.execute_reply.started": "2021-08-18T16:52:31.526375Z"
    }
   },
   "outputs": [],
   "source": [
    "del x_test_item_cat,x_test_id_cat,x_test_event_name_1,x_test_event_type_1,x_test_event_name_2,x_test_event_type_2,x_test_dept_cat,x_test_cat,x_test_store_cat,x_test_state_cat"
   ]
  },
  {
   "cell_type": "code",
   "execution_count": 29,
   "metadata": {
    "execution": {
     "iopub.execute_input": "2021-08-18T16:52:31.540477Z",
     "iopub.status.busy": "2021-08-18T16:52:31.540107Z",
     "iopub.status.idle": "2021-08-18T16:52:31.558108Z",
     "shell.execute_reply": "2021-08-18T16:52:31.557137Z",
     "shell.execute_reply.started": "2021-08-18T16:52:31.540438Z"
    }
   },
   "outputs": [],
   "source": [
    "#function to calculate assymmetric rmse,custom metric function\n",
    "def armse(y_act,y_pred):\n",
    "    score=0\n",
    "    n = len(y_act)\n",
    "    diff = np.array(y_pred) - np.array(y_act)\n",
    "    for ele in diff:\n",
    "        if ele<0:\n",
    "            score += 4*(ele**2)\n",
    "        else:\n",
    "            score += ele**2\n",
    "    return np.sqrt(score/n)"
   ]
  },
  {
   "cell_type": "markdown",
   "metadata": {},
   "source": [
    "### **Hyperparameter tuning: SGDRegressor**\n",
    "* Considering SGDRegressor instead of SVR as the fit time complexity is more than quadratic and hard to fit for datasets with more than 20000 samples as per official documentation\n",
    "* Ref: https://scikit-learn.org/stable/modules/generated/sklearn.svm.SVR.html"
   ]
  },
  {
   "cell_type": "code",
   "execution_count": 30,
   "metadata": {
    "execution": {
     "iopub.execute_input": "2021-08-12T03:54:55.486431Z",
     "iopub.status.busy": "2021-08-12T03:54:55.485989Z",
     "iopub.status.idle": "2021-08-12T12:29:24.254472Z",
     "shell.execute_reply": "2021-08-12T12:29:24.252400Z",
     "shell.execute_reply.started": "2021-08-12T03:54:55.486394Z"
    }
   },
   "outputs": [
    {
     "name": "stderr",
     "output_type": "stream",
     "text": [
      "  0%|          | 0/2 [00:00<?, ?it/s]/opt/conda/lib/python3.7/site-packages/sklearn/linear_model/_stochastic_gradient.py:1223: ConvergenceWarning: Maximum number of iteration reached before convergence. Consider increasing max_iter to improve the fit.\n",
      "  ConvergenceWarning)\n",
      " 50%|█████     | 1/2 [4:12:04<4:12:04, 15124.24s/it]"
     ]
    },
    {
     "name": "stdout",
     "output_type": "stream",
     "text": [
      "Params: 0.016412257355770586 0.10437643824585228\n",
      "Train: RMSE 6.587733983701801e+16 ARMSE 6.587776669851309e+16\n",
      "Test: RMSE 6.537597784341029e+16 ARMSE 6.537688284043288e+16\n"
     ]
    },
    {
     "name": "stderr",
     "output_type": "stream",
     "text": [
      "/opt/conda/lib/python3.7/site-packages/sklearn/linear_model/_stochastic_gradient.py:1223: ConvergenceWarning: Maximum number of iteration reached before convergence. Consider increasing max_iter to improve the fit.\n",
      "  ConvergenceWarning)\n",
      "100%|██████████| 2/2 [8:34:28<00:00, 15434.37s/it]  "
     ]
    },
    {
     "name": "stdout",
     "output_type": "stream",
     "text": [
      "Params: 0.010723422206099462 0.21328178114285148\n",
      "Train: RMSE 7926531504009859.0 ARMSE 8062262019933451.0\n",
      "Test: RMSE 7144434813039157.0 ARMSE 7458391190709563.0\n"
     ]
    },
    {
     "name": "stderr",
     "output_type": "stream",
     "text": [
      "\n"
     ]
    }
   ],
   "source": [
    "from sklearn.linear_model import SGDRegressor\n",
    "sgd_rtrain = []\n",
    "sgd_rtest = []\n",
    "sgd_atrain = []\n",
    "sgd_atest = []\n",
    "for i in tqdm(range(2)):\n",
    "    alpha = random.uniform(0.01,0.1)\n",
    "    eta = random.uniform(0.001,0.5)\n",
    "    sr = SGDRegressor(alpha=alpha,eta0=eta,max_iter=1500)\n",
    "    sr.fit(x_train,y_train)\n",
    "    y_test_sr = sr.predict(x_test)\n",
    "    y_train_sr = sr.predict(x_train)\n",
    "    rmse_train = mse(y_train,y_train_sr,squared=False)\n",
    "    armse_train = armse(y_train,y_train_sr)    \n",
    "    rmse_test = mse(y_test,y_test_sr,squared=False)\n",
    "    armse_test = armse(y_test,y_test_sr)\n",
    "    sgd_rtrain.extend([rmse_train])\n",
    "    sgd_atrain.extend([armse_train])\n",
    "    sgd_rtest.extend([rmse_test])\n",
    "    sgd_atest.extend([armse_test])\n",
    "    print('Params: {} {}'.format(alpha,eta))\n",
    "    print('Train: RMSE {} ARMSE {}'.format(rmse_train,armse_train))\n",
    "    print('Test: RMSE {} ARMSE {}'.format(rmse_test,armse_test))"
   ]
  },
  {
   "cell_type": "markdown",
   "metadata": {},
   "source": [
    "1. SGDRegressor is taking a lot of iterations to converge and train time is very high"
   ]
  },
  {
   "cell_type": "markdown",
   "metadata": {},
   "source": [
    "### **Hyperparameter tuning: DecisionTreeRegressor**"
   ]
  },
  {
   "cell_type": "code",
   "execution_count": 31,
   "metadata": {
    "execution": {
     "iopub.execute_input": "2021-08-12T13:59:30.256983Z",
     "iopub.status.busy": "2021-08-12T13:59:30.256587Z",
     "iopub.status.idle": "2021-08-12T14:28:27.907106Z",
     "shell.execute_reply": "2021-08-12T14:28:27.906051Z",
     "shell.execute_reply.started": "2021-08-12T13:59:30.256946Z"
    }
   },
   "outputs": [
    {
     "name": "stderr",
     "output_type": "stream",
     "text": [
      " 20%|██        | 1/5 [05:33<22:15, 333.80s/it]"
     ]
    },
    {
     "name": "stdout",
     "output_type": "stream",
     "text": [
      "Params: max_depth 11 min_samples_split 6\n",
      "Train: RMSE 1.7845744836566988 ARMSE 3.0174652866670773\n",
      "Test: RMSE 1.7833629637072994 ARMSE 3.0133470743047304\n"
     ]
    },
    {
     "name": "stderr",
     "output_type": "stream",
     "text": [
      " 40%|████      | 2/5 [10:45<16:01, 320.53s/it]"
     ]
    },
    {
     "name": "stdout",
     "output_type": "stream",
     "text": [
      "Params: max_depth 10 min_samples_split 4\n",
      "Train: RMSE 1.804485785509871 ARMSE 3.0543273518981047\n",
      "Test: RMSE 1.7817758934714554 ARMSE 3.018006362334728\n"
     ]
    },
    {
     "name": "stderr",
     "output_type": "stream",
     "text": [
      " 60%|██████    | 3/5 [16:14<10:49, 324.55s/it]"
     ]
    },
    {
     "name": "stdout",
     "output_type": "stream",
     "text": [
      "Params: max_depth 11 min_samples_split 4\n",
      "Train: RMSE 1.7830075852307998 ARMSE 3.015072410869413\n",
      "Test: RMSE 1.7827317586354638 ARMSE 3.0129601208499257\n"
     ]
    },
    {
     "name": "stderr",
     "output_type": "stream",
     "text": [
      " 80%|████████  | 4/5 [22:35<05:46, 346.82s/it]"
     ]
    },
    {
     "name": "stdout",
     "output_type": "stream",
     "text": [
      "Params: max_depth 14 min_samples_split 2\n",
      "Train: RMSE 1.7068921116109432 ARMSE 2.880097654270217\n",
      "Test: RMSE 1.8106680280370904 ARMSE 3.0431061783694107\n"
     ]
    },
    {
     "name": "stderr",
     "output_type": "stream",
     "text": [
      "100%|██████████| 5/5 [28:57<00:00, 347.53s/it]"
     ]
    },
    {
     "name": "stdout",
     "output_type": "stream",
     "text": [
      "Params: max_depth 14 min_samples_split 3\n",
      "Train: RMSE 1.7100263474107393 ARMSE 2.8847465239840866\n",
      "Test: RMSE 1.810539943950743 ARMSE 3.0394217571016577\n"
     ]
    },
    {
     "name": "stderr",
     "output_type": "stream",
     "text": [
      "\n"
     ]
    }
   ],
   "source": [
    "from sklearn.tree import DecisionTreeRegressor\n",
    "dt_rtrain = []\n",
    "dt_rtest = []\n",
    "dt_atrain = []\n",
    "dt_atest = []\n",
    "for i in tqdm(range(5)):\n",
    "    max_depth = random.sample(range(10,15),1)[0]\n",
    "    min_samples_split = random.sample(range(2,8),1)[0]\n",
    "    dt = DecisionTreeRegressor(max_depth=max_depth,min_samples_split=min_samples_split,random_state=0)\n",
    "    dt.fit(x_train,y_train)\n",
    "    y_train_dt = dt.predict(x_train)\n",
    "    y_test_dt = dt.predict(x_test)\n",
    "    rmse_train = mse(y_train,y_train_dt,squared=False)\n",
    "    armse_train = armse(y_train,y_train_dt)    \n",
    "    rmse_test = mse(y_test,y_test_dt,squared=False)\n",
    "    armse_test = armse(y_test,y_test_dt)\n",
    "    dt_rtrain.extend([rmse_train])\n",
    "    dt_atrain.extend([armse_train])\n",
    "    dt_rtest.extend([rmse_test])\n",
    "    dt_atest.extend([armse_test])\n",
    "    print('Params: max_depth {} min_samples_split {}'.format(max_depth,min_samples_split))\n",
    "    print('Train: RMSE {} ARMSE {}'.format(rmse_train,armse_train))\n",
    "    print('Test: RMSE {} ARMSE {}'.format(rmse_test,armse_test))"
   ]
  },
  {
   "cell_type": "code",
   "execution_count": 32,
   "metadata": {
    "execution": {
     "iopub.execute_input": "2021-08-12T14:28:33.912685Z",
     "iopub.status.busy": "2021-08-12T14:28:33.912313Z",
     "iopub.status.idle": "2021-08-12T14:34:00.809996Z",
     "shell.execute_reply": "2021-08-12T14:34:00.809119Z",
     "shell.execute_reply.started": "2021-08-12T14:28:33.912655Z"
    }
   },
   "outputs": [
    {
     "name": "stdout",
     "output_type": "stream",
     "text": [
      "Params: max_depth 14 min_samples_split 3\n",
      "Train: RMSE 1.78111129155709 ARMSE 3.0120124515864624\n",
      "Test: RMSE 1.7827317586354638 ARMSE 3.0129601208499257\n"
     ]
    }
   ],
   "source": [
    "dt = DecisionTreeRegressor(max_depth=11,min_samples_split=3,random_state=0)\n",
    "dt.fit(x_train,y_train)\n",
    "y_train_dt = dt.predict(x_train)\n",
    "y_test_dt = dt.predict(x_test)\n",
    "rmse_train = mse(y_train,y_train_dt,squared=False)\n",
    "armse_train = armse(y_train,y_train_dt)    \n",
    "rmse_test = mse(y_test,y_test_dt,squared=False)\n",
    "armse_test = armse(y_test,y_test_dt)\n",
    "print('Params: max_depth {} min_samples_split {}'.format(max_depth,min_samples_split))\n",
    "print('Train: RMSE {} ARMSE {}'.format(rmse_train,armse_train))\n",
    "print('Test: RMSE {} ARMSE {}'.format(rmse_test,armse_test))"
   ]
  },
  {
   "cell_type": "markdown",
   "metadata": {},
   "source": [
    "### **Hyperparameter tuning: CatBoostRegressor**"
   ]
  },
  {
   "cell_type": "code",
   "execution_count": 33,
   "metadata": {
    "execution": {
     "iopub.execute_input": "2021-08-16T09:39:45.082770Z",
     "iopub.status.busy": "2021-08-16T09:39:45.082394Z",
     "iopub.status.idle": "2021-08-16T12:50:32.614383Z",
     "shell.execute_reply": "2021-08-16T12:50:32.611744Z",
     "shell.execute_reply.started": "2021-08-16T09:39:45.082737Z"
    }
   },
   "outputs": [
    {
     "name": "stderr",
     "output_type": "stream",
     "text": [
      " 20%|██        | 1/5 [31:07<2:04:31, 1867.93s/it]"
     ]
    },
    {
     "name": "stdout",
     "output_type": "stream",
     "text": [
      "Params: learning_rate 0.7412334808788812 depth 2\n",
      "Train: RMSE 1.8021810495884045 ARMSE 3.059304725517802\n",
      "Test: RMSE 1.7909334271996944 ARMSE 3.0135418560208636\n"
     ]
    },
    {
     "name": "stderr",
     "output_type": "stream",
     "text": [
      " 40%|████      | 2/5 [1:06:52<1:41:32, 2030.88s/it]"
     ]
    },
    {
     "name": "stdout",
     "output_type": "stream",
     "text": [
      "Params: learning_rate 0.7673233598801245 depth 4\n",
      "Train: RMSE 1.6961734558458312 ARMSE 2.869178139862516\n",
      "Test: RMSE 1.7663390614592756 ARMSE 2.992966444796189\n"
     ]
    },
    {
     "name": "stderr",
     "output_type": "stream",
     "text": [
      " 60%|██████    | 3/5 [1:51:44<1:17:45, 2332.78s/it]"
     ]
    },
    {
     "name": "stdout",
     "output_type": "stream",
     "text": [
      "Params: learning_rate 0.22140661374848813 depth 7\n",
      "Train: RMSE 1.6495070380426642 ARMSE 2.7931136323697934\n",
      "Test: RMSE 1.7389308414179723 ARMSE 2.9629930459293656\n"
     ]
    },
    {
     "name": "stderr",
     "output_type": "stream",
     "text": [
      " 80%|████████  | 4/5 [2:37:26<41:34, 2494.01s/it]  "
     ]
    },
    {
     "name": "stdout",
     "output_type": "stream",
     "text": [
      "Params: learning_rate 0.8571815579620572 depth 7\n",
      "Train: RMSE 1.5670409977322248 ARMSE 2.644045537837446\n",
      "Test: RMSE 1.908649938797318 ARMSE 2.9974419308488076\n"
     ]
    },
    {
     "name": "stderr",
     "output_type": "stream",
     "text": [
      "100%|██████████| 5/5 [3:10:47<00:00, 2289.50s/it]"
     ]
    },
    {
     "name": "stdout",
     "output_type": "stream",
     "text": [
      "Params: learning_rate 0.562297701812735 depth 3\n",
      "Train: RMSE 1.7499802970350515 ARMSE 2.966272349899431\n",
      "Test: RMSE 1.7631800861681584 ARMSE 2.986061769599048\n"
     ]
    },
    {
     "name": "stderr",
     "output_type": "stream",
     "text": [
      "\n"
     ]
    }
   ],
   "source": [
    "for i in tqdm(range(5)):\n",
    "    learning_rate = random.uniform(0.1,0.9)\n",
    "    depth = random.sample(range(2,8),1)[0]\n",
    "    cat = CatBoostRegressor(learning_rate=learning_rate,depth=depth,logging_level=\"Silent\")\n",
    "    cat.fit(x_train,y_train)\n",
    "    y_train_cat = cat.predict(x_train)\n",
    "    y_test_cat = cat.predict(x_test)\n",
    "    rmse_train = mse(y_train,y_train_cat,squared=False)\n",
    "    armse_train = armse(y_train,y_train_cat)    \n",
    "    rmse_test = mse(y_test,y_test_cat,squared=False)\n",
    "    armse_test = armse(y_test,y_test_cat)\n",
    "    print('Params: learning_rate {} depth {}'.format(learning_rate,depth))\n",
    "    print('Train: RMSE {} ARMSE {}'.format(rmse_train,armse_train))\n",
    "    print('Test: RMSE {} ARMSE {}'.format(rmse_test,armse_test))"
   ]
  },
  {
   "cell_type": "code",
   "execution_count": 30,
   "metadata": {
    "execution": {
     "iopub.execute_input": "2021-08-16T13:38:43.414847Z",
     "iopub.status.busy": "2021-08-16T13:38:43.414418Z",
     "iopub.status.idle": "2021-08-16T14:16:35.236065Z",
     "shell.execute_reply": "2021-08-16T14:16:35.234559Z",
     "shell.execute_reply.started": "2021-08-16T13:38:43.414813Z"
    }
   },
   "outputs": [
    {
     "name": "stdout",
     "output_type": "stream",
     "text": [
      "Train: RMSE 1.751827869842708 ARMSE 2.9703188675722347\n",
      "Test: RMSE 1.7551337879956594 ARMSE 2.9900729685750433\n"
     ]
    }
   ],
   "source": [
    "cat = CatBoostRegressor(learning_rate=0.55,depth=3,logging_level=\"Silent\")\n",
    "cat.fit(x_train,y_train)\n",
    "y_train_cat = cat.predict(x_train)\n",
    "y_test_cat = cat.predict(x_test)\n",
    "rmse_train = mse(y_train,y_train_cat,squared=False)\n",
    "armse_train = armse(y_train,y_train_cat)    \n",
    "rmse_test = mse(y_test,y_test_cat,squared=False)\n",
    "armse_test = armse(y_test,y_test_cat)\n",
    "print('Train: RMSE {} ARMSE {}'.format(rmse_train,armse_train))\n",
    "print('Test: RMSE {} ARMSE {}'.format(rmse_test,armse_test))"
   ]
  },
  {
   "cell_type": "code",
   "execution_count": 31,
   "metadata": {
    "execution": {
     "iopub.execute_input": "2021-08-18T17:02:07.552093Z",
     "iopub.status.busy": "2021-08-18T17:02:07.551695Z",
     "iopub.status.idle": "2021-08-18T17:32:02.866310Z",
     "shell.execute_reply": "2021-08-18T17:32:02.864555Z",
     "shell.execute_reply.started": "2021-08-18T17:02:07.552055Z"
    }
   },
   "outputs": [
    {
     "name": "stderr",
     "output_type": "stream",
     "text": [
      " 20%|██        | 1/5 [06:02<24:09, 362.33s/it]"
     ]
    },
    {
     "name": "stdout",
     "output_type": "stream",
     "text": [
      "Params: alpha 0.00718355613033409 \n",
      "Train: RMSE 1.895140900530189 ARMSE 3.2172276790456125\n",
      "Test: RMSE 1.8054085225615664 ARMSE 3.0782701646682655\n"
     ]
    },
    {
     "name": "stderr",
     "output_type": "stream",
     "text": [
      " 40%|████      | 2/5 [12:07<18:11, 363.77s/it]"
     ]
    },
    {
     "name": "stdout",
     "output_type": "stream",
     "text": [
      "Params: alpha 0.006751722246115241 \n",
      "Train: RMSE 1.895094239394977 ARMSE 3.2168084503064245\n",
      "Test: RMSE 1.8053309434829417 ARMSE 3.077856927518901\n"
     ]
    },
    {
     "name": "stderr",
     "output_type": "stream",
     "text": [
      " 60%|██████    | 3/5 [17:51<11:49, 354.77s/it]"
     ]
    },
    {
     "name": "stdout",
     "output_type": "stream",
     "text": [
      "Params: alpha 0.00859126102141812 \n",
      "Train: RMSE 1.8953110954064998 ARMSE 3.2186198958564463\n",
      "Test: RMSE 1.8056850344909963 ARMSE 3.0796427844756256\n"
     ]
    },
    {
     "name": "stderr",
     "output_type": "stream",
     "text": [
      " 80%|████████  | 4/5 [24:06<06:03, 363.08s/it]"
     ]
    },
    {
     "name": "stdout",
     "output_type": "stream",
     "text": [
      "Params: alpha 0.005873329712020209 \n",
      "Train: RMSE 1.8950084609232647 ARMSE 3.2159739053710563\n",
      "Test: RMSE 1.805180706418586 ARMSE 3.077030553766479\n"
     ]
    },
    {
     "name": "stderr",
     "output_type": "stream",
     "text": [
      "100%|██████████| 5/5 [29:55<00:00, 359.06s/it]"
     ]
    },
    {
     "name": "stdout",
     "output_type": "stream",
     "text": [
      "Params: alpha 0.00816446194155392 \n",
      "Train: RMSE 1.8952577141841063 ARMSE 3.218196763659029\n",
      "Test: RMSE 1.8055942352989278 ARMSE 3.079222927743614\n"
     ]
    },
    {
     "name": "stderr",
     "output_type": "stream",
     "text": [
      "\n"
     ]
    }
   ],
   "source": [
    "from sklearn.linear_model import Lasso\n",
    "for i in tqdm(range(5)):\n",
    "    alpha = random.uniform(0.005,0.009)\n",
    "    ls = Lasso(alpha=alpha,random_state=0)\n",
    "    ls.fit(x_train,y_train)\n",
    "    y_train_ls = ls.predict(x_train)\n",
    "    y_test_ls = ls.predict(x_test)\n",
    "    rmse_train = mse(y_train,y_train_ls,squared=False)\n",
    "    armse_train = armse(y_train,y_train_ls)    \n",
    "    rmse_test = mse(y_test,y_test_ls,squared=False)\n",
    "    armse_test = armse(y_test,y_test_ls)\n",
    "    print('Params: alpha {} '.format(alpha))\n",
    "    print('Train: RMSE {} ARMSE {}'.format(rmse_train,armse_train))\n",
    "    print('Test: RMSE {} ARMSE {}'.format(rmse_test,armse_test))"
   ]
  },
  {
   "cell_type": "code",
   "execution_count": 36,
   "metadata": {
    "execution": {
     "iopub.execute_input": "2021-08-15T14:01:06.385347Z",
     "iopub.status.busy": "2021-08-15T14:01:06.384936Z",
     "iopub.status.idle": "2021-08-15T14:04:32.735403Z",
     "shell.execute_reply": "2021-08-15T14:04:32.732904Z",
     "shell.execute_reply.started": "2021-08-15T14:01:06.385310Z"
    }
   },
   "outputs": [
    {
     "name": "stderr",
     "output_type": "stream",
     "text": [
      " 20%|██        | 1/5 [00:40<02:43, 40.92s/it]"
     ]
    },
    {
     "name": "stdout",
     "output_type": "stream",
     "text": [
      "Params: alpha 0.3956833984551896 \n",
      "Train: RMSE 1.8946867860908698 ARMSE 3.210782958578813\n",
      "Test: RMSE 1.8042395400366795 ARMSE 3.0721695614509663\n"
     ]
    },
    {
     "name": "stderr",
     "output_type": "stream",
     "text": [
      " 40%|████      | 2/5 [01:22<02:03, 41.29s/it]"
     ]
    },
    {
     "name": "stdout",
     "output_type": "stream",
     "text": [
      "Params: alpha 0.44553481915343807 \n",
      "Train: RMSE 1.8946867860908678 ARMSE 3.210782959592198\n",
      "Test: RMSE 1.8042395400792437 ARMSE 3.072169562310709\n"
     ]
    },
    {
     "name": "stderr",
     "output_type": "stream",
     "text": [
      " 60%|██████    | 3/5 [02:04<01:23, 41.62s/it]"
     ]
    },
    {
     "name": "stdout",
     "output_type": "stream",
     "text": [
      "Params: alpha 0.8693474462713479 \n",
      "Train: RMSE 1.8946867860908652 ARMSE 3.210782968204007\n",
      "Test: RMSE 1.8042395404410987 ARMSE 3.0721695696204288\n"
     ]
    },
    {
     "name": "stderr",
     "output_type": "stream",
     "text": [
      "/opt/conda/lib/python3.7/site-packages/sklearn/linear_model/_ridge.py:148: LinAlgWarning: Ill-conditioned matrix (rcond=9.47377e-17): result may not be accurate.\n",
      "  overwrite_a=True).T\n",
      " 80%|████████  | 4/5 [02:45<00:41, 41.31s/it]"
     ]
    },
    {
     "name": "stdout",
     "output_type": "stream",
     "text": [
      "Params: alpha 0.2662497227754937 \n",
      "Train: RMSE 1.8946867860908663 ARMSE 3.2107829559489236\n",
      "Test: RMSE 1.8042395399261693 ARMSE 3.0721695592185245\n"
     ]
    },
    {
     "name": "stderr",
     "output_type": "stream",
     "text": [
      "100%|██████████| 5/5 [03:26<00:00, 41.27s/it]"
     ]
    },
    {
     "name": "stdout",
     "output_type": "stream",
     "text": [
      "Params: alpha 0.8361823960826168 \n",
      "Train: RMSE 1.8946867860908683 ARMSE 3.2107829675300064\n",
      "Test: RMSE 1.8042395404127818 ARMSE 3.072169569048396\n"
     ]
    },
    {
     "name": "stderr",
     "output_type": "stream",
     "text": [
      "\n"
     ]
    }
   ],
   "source": [
    "from sklearn.linear_model import Ridge\n",
    "for i in tqdm(range(5)):\n",
    "    alpha = random.uniform(0.1,0.9)\n",
    "    rg = Ridge(alpha=alpha,random_state=0)\n",
    "    rg.fit(x_train,y_train)\n",
    "    y_train_rg = rg.predict(x_train)\n",
    "    y_test_rg = rg.predict(x_test)\n",
    "    rmse_train = mse(y_train,y_train_rg,squared=False)\n",
    "    armse_train = armse(y_train,y_train_rg)    \n",
    "    rmse_test = mse(y_test,y_test_rg,squared=False)\n",
    "    armse_test = armse(y_test,y_test_rg)   \n",
    "    print('Params: alpha {} '.format(alpha))\n",
    "    print('Train: RMSE {} ARMSE {}'.format(rmse_train,armse_train))\n",
    "    print('Test: RMSE {} ARMSE {}'.format(rmse_test,armse_test))"
   ]
  },
  {
   "cell_type": "code",
   "execution_count": 37,
   "metadata": {
    "execution": {
     "iopub.execute_input": "2021-08-15T14:05:35.571032Z",
     "iopub.status.busy": "2021-08-15T14:05:35.570350Z",
     "iopub.status.idle": "2021-08-15T14:40:14.648311Z",
     "shell.execute_reply": "2021-08-15T14:40:14.646023Z",
     "shell.execute_reply.started": "2021-08-15T14:05:35.570991Z"
    }
   },
   "outputs": [
    {
     "name": "stderr",
     "output_type": "stream",
     "text": [
      " 20%|██        | 1/5 [05:14<20:58, 314.67s/it]"
     ]
    },
    {
     "name": "stdout",
     "output_type": "stream",
     "text": [
      "Params: alpha 0.08843952275650879 l1_ratio 0.04553986333402141\n",
      "Train: RMSE 1.9019415376638384 ARMSE 3.257357986576797\n",
      "Test: RMSE 1.810999765710858 ARMSE 3.1085529762663375\n"
     ]
    },
    {
     "name": "stderr",
     "output_type": "stream",
     "text": [
      " 40%|████      | 2/5 [11:38<17:45, 355.26s/it]"
     ]
    },
    {
     "name": "stdout",
     "output_type": "stream",
     "text": [
      "Params: alpha 0.04816350626542985 l1_ratio 0.04748638705329243\n",
      "Train: RMSE 1.8978566829555845 ARMSE 3.2375959438217743\n",
      "Test: RMSE 1.8075223394037363 ARMSE 3.093658978324611\n"
     ]
    },
    {
     "name": "stderr",
     "output_type": "stream",
     "text": [
      " 60%|██████    | 3/5 [18:51<13:01, 390.77s/it]"
     ]
    },
    {
     "name": "stdout",
     "output_type": "stream",
     "text": [
      "Params: alpha 0.05231500482294257 l1_ratio 0.015885460760238397\n",
      "Train: RMSE 1.8982003665962248 ARMSE 3.239768625971121\n",
      "Test: RMSE 1.8076493825357647 ARMSE 3.0950360943659185\n"
     ]
    },
    {
     "name": "stderr",
     "output_type": "stream",
     "text": [
      " 80%|████████  | 4/5 [26:07<06:48, 408.86s/it]"
     ]
    },
    {
     "name": "stdout",
     "output_type": "stream",
     "text": [
      "Params: alpha 0.03128961138808438 l1_ratio 0.050329493196139184\n",
      "Train: RMSE 1.8963312171321756 ARMSE 3.2284739731289616\n",
      "Test: RMSE 1.8061412702252628 ARMSE 3.08659194053629\n"
     ]
    },
    {
     "name": "stderr",
     "output_type": "stream",
     "text": [
      "100%|██████████| 5/5 [34:39<00:00, 415.81s/it]"
     ]
    },
    {
     "name": "stdout",
     "output_type": "stream",
     "text": [
      "Params: alpha 0.01578324417661788 l1_ratio 0.08924703975392977\n",
      "Train: RMSE 1.89527675180217 ARMSE 3.2203335885170734\n",
      "Test: RMSE 1.8051010213676857 ARMSE 3.080115044163228\n"
     ]
    },
    {
     "name": "stderr",
     "output_type": "stream",
     "text": [
      "\n"
     ]
    }
   ],
   "source": [
    "from sklearn.linear_model import ElasticNet\n",
    "for i in tqdm(range(5)):\n",
    "    alpha = random.uniform(0.001,0.1)\n",
    "    l1 = random.uniform(0.01,0.09)\n",
    "    es = ElasticNet(alpha=alpha,l1_ratio=l1,random_state=0)\n",
    "    es.fit(x_train,y_train)\n",
    "    y_train_es = es.predict(x_train)\n",
    "    y_test_es = es.predict(x_test)\n",
    "    rmse_train = mse(y_train,y_train_es,squared=False)\n",
    "    armse_train = armse(y_train,y_train_es)    \n",
    "    rmse_test = mse(y_test,y_test_es,squared=False)\n",
    "    armse_test = armse(y_test,y_test_es)\n",
    "    print('Params: alpha {} l1_ratio {}'.format(alpha,l1))\n",
    "    print('Train: RMSE {} ARMSE {}'.format(rmse_train,armse_train))\n",
    "    print('Test: RMSE {} ARMSE {}'.format(rmse_test,armse_test))"
   ]
  },
  {
   "cell_type": "markdown",
   "metadata": {},
   "source": [
    "### **Hyperparameter tuning: LinearRegression**"
   ]
  },
  {
   "cell_type": "code",
   "execution_count": 31,
   "metadata": {
    "execution": {
     "iopub.execute_input": "2021-08-18T05:54:18.007333Z",
     "iopub.status.busy": "2021-08-18T05:54:18.006661Z",
     "iopub.status.idle": "2021-08-18T05:55:27.916707Z",
     "shell.execute_reply": "2021-08-18T05:55:27.915145Z",
     "shell.execute_reply.started": "2021-08-18T05:54:18.007267Z"
    }
   },
   "outputs": [
    {
     "name": "stdout",
     "output_type": "stream",
     "text": [
      "Train: RMSE 1.8946867865456574 ARMSE 3.2107820071548114\n",
      "Test: RMSE 1.8042394992902844 ARMSE 3.072168306636584\n"
     ]
    }
   ],
   "source": [
    "from sklearn.linear_model import LinearRegression\n",
    "lr = LinearRegression(n_jobs=-1)\n",
    "lr.fit(x_train,y_train)\n",
    "y_pred_train = lr.predict(x_train)\n",
    "y_pred_test = lr.predict(x_test)\n",
    "rmse_train = mse(y_train,y_pred_train,squared=False)\n",
    "armse_train = armse(y_train,y_pred_train)\n",
    "rmse_test = mse(y_test,y_pred_test,squared=False)\n",
    "armse_test = armse(y_test,y_pred_test)\n",
    "print('Train: RMSE {} ARMSE {}'.format(rmse_train,armse_train))\n",
    "print('Test: RMSE {} ARMSE {}'.format(rmse_test,armse_test))"
   ]
  },
  {
   "cell_type": "markdown",
   "metadata": {},
   "source": [
    "1. Test error is significantly less compared to train error for Lasso,Ridge,ElasticNet and Linera regression models indicating bias"
   ]
  },
  {
   "cell_type": "markdown",
   "metadata": {},
   "source": [
    "### **Hyperparameter tuning: Random forest**"
   ]
  },
  {
   "cell_type": "code",
   "execution_count": null,
   "metadata": {
    "execution": {
     "iopub.execute_input": "2021-08-17T07:54:20.141276Z",
     "iopub.status.busy": "2021-08-17T07:54:20.140910Z"
    }
   },
   "outputs": [
    {
     "name": "stderr",
     "output_type": "stream",
     "text": [
      " 20%|██        | 1/5 [2:05:54<8:23:36, 7554.20s/it]"
     ]
    },
    {
     "name": "stdout",
     "output_type": "stream",
     "text": [
      "n_estimators 89 max_depth 12 min_samples_split5\n",
      "Train: RMSE 1.739818481119316 ARMSE 2.9447564065379686\n",
      "Test: RMSE 1.754665108375681 ARMSE 2.9779525920756353\n"
     ]
    },
    {
     "name": "stderr",
     "output_type": "stream",
     "text": [
      " 40%|████      | 2/5 [4:03:46<6:03:32, 7270.96s/it]"
     ]
    },
    {
     "name": "stdout",
     "output_type": "stream",
     "text": [
      "n_estimators 81 max_depth 11 min_samples_split5\n",
      "Train: RMSE 1.7626775616302255 ARMSE 2.9854358197273743\n",
      "Test: RMSE 1.7578163464211263 ARMSE 2.9854907434536386\n"
     ]
    },
    {
     "name": "stderr",
     "output_type": "stream",
     "text": [
      " 60%|██████    | 3/5 [6:55:56<4:48:55, 8667.50s/it]"
     ]
    },
    {
     "name": "stdout",
     "output_type": "stream",
     "text": [
      "n_estimators 98 max_depth 14 min_samples_split2\n",
      "Train: RMSE 1.681898912797003 ARMSE 2.8420517716217177\n",
      "Test: RMSE 1.7497975900056884 ARMSE 2.963785901919721\n"
     ]
    },
    {
     "name": "stderr",
     "output_type": "stream",
     "text": [
      " 80%|████████  | 4/5 [8:32:50<2:05:41, 7541.02s/it]"
     ]
    },
    {
     "name": "stdout",
     "output_type": "stream",
     "text": [
      "n_estimators 64 max_depth 12 min_samples_split6\n",
      "Train: RMSE 1.7419309167265904 ARMSE 2.9481936876144617\n",
      "Test: RMSE 1.754608835395851 ARMSE 2.978621471515222\n"
     ]
    }
   ],
   "source": [
    "for i in tqdm(range(5)):\n",
    "    n_estimators = random.sample(range(50,100),1)[0]\n",
    "    max_depth = random.sample(range(10,15),1)[0]\n",
    "    min_samples_split = random.sample(range(2,8),1)[0]\n",
    "    rf = RandomForestRegressor(n_estimators=n_estimators,max_depth=max_depth,min_samples_split=min_samples_split,random_state=0,n_jobs=-1)\n",
    "    rf.fit(x_train,y_train)\n",
    "    y_train_rf = rf.predict(x_train)\n",
    "    y_test_rf = rf.predict(x_test)\n",
    "    rmse_train = mse(y_train,y_train_rf,squared=False)\n",
    "    armse_train = armse(y_train,y_train_rf)\n",
    "    rmse_test = mse(y_test,y_test_rf,squared=False)\n",
    "    armse_test = armse(y_test,y_test_rf)\n",
    "    print('n_estimators {} max_depth {} min_samples_split{}'.format(n_estimators,max_depth,min_samples_split))\n",
    "    print('Train: RMSE {} ARMSE {}'.format(rmse_train,armse_train))\n",
    "    print('Test: RMSE {} ARMSE {}'.format(rmse_test,armse_test))"
   ]
  },
  {
   "cell_type": "code",
   "execution_count": 30,
   "metadata": {
    "execution": {
     "iopub.execute_input": "2021-08-17T16:56:00.502829Z",
     "iopub.status.busy": "2021-08-17T16:56:00.502459Z",
     "iopub.status.idle": "2021-08-17T18:25:34.383319Z",
     "shell.execute_reply": "2021-08-17T18:25:34.380089Z",
     "shell.execute_reply.started": "2021-08-17T16:56:00.502767Z"
    }
   },
   "outputs": [
    {
     "name": "stdout",
     "output_type": "stream",
     "text": [
      "Train: RMSE 1.7419309167265904 ARMSE 2.9481936876144617\n",
      "Test: RMSE 1.7546088353958513 ARMSE 2.978621471515222\n"
     ]
    }
   ],
   "source": [
    "rf = RandomForestRegressor(n_estimators=64,max_depth=12,min_samples_split=6,random_state=0,n_jobs=-1)\n",
    "rf.fit(x_train,y_train)\n",
    "y_train_rf = rf.predict(x_train)\n",
    "y_test_rf = rf.predict(x_test)\n",
    "rmse_train = mse(y_train,y_train_rf,squared=False)\n",
    "armse_train = armse(y_train,y_train_rf)     \n",
    "rmse_test = mse(y_test,y_test_rf,squared=False)\n",
    "armse_test = armse(y_test,y_test_rf)\n",
    "print('Train: RMSE {} ARMSE {}'.format(rmse_train,armse_train))\n",
    "print('Test: RMSE {} ARMSE {}'.format(rmse_test,armse_test))"
   ]
  },
  {
   "cell_type": "markdown",
   "metadata": {},
   "source": [
    "### **Hyperparameter tuning: XGBoost**"
   ]
  },
  {
   "cell_type": "code",
   "execution_count": 30,
   "metadata": {
    "execution": {
     "iopub.execute_input": "2021-08-14T02:53:13.407768Z",
     "iopub.status.busy": "2021-08-14T02:53:13.406970Z",
     "iopub.status.idle": "2021-08-14T08:41:52.390990Z",
     "shell.execute_reply": "2021-08-14T08:41:52.389134Z",
     "shell.execute_reply.started": "2021-08-14T02:53:13.407712Z"
    }
   },
   "outputs": [
    {
     "name": "stderr",
     "output_type": "stream",
     "text": [
      "  0%|          | 0/5 [00:00<?, ?it/s]/opt/conda/lib/python3.7/site-packages/xgboost/data.py:114: UserWarning: Use subset (sliced data) of np.ndarray is not recommended because it will generate extra copies and increase memory consumption\n",
      "  \"because it will generate extra copies and increase \" +\n",
      " 20%|██        | 1/5 [1:17:30<5:10:02, 4650.64s/it]"
     ]
    },
    {
     "name": "stdout",
     "output_type": "stream",
     "text": [
      "n_estimators 98 max_depth 6 learning_rate 0.3490151547801042\n",
      "Train: RMSE 1.8136436939239502 ARMSE 3.106635784177288\n",
      "Test: RMSE 1.8035304546356201 ARMSE 3.0966927337045553\n"
     ]
    },
    {
     "name": "stderr",
     "output_type": "stream",
     "text": [
      "/opt/conda/lib/python3.7/site-packages/xgboost/data.py:114: UserWarning: Use subset (sliced data) of np.ndarray is not recommended because it will generate extra copies and increase memory consumption\n",
      "  \"because it will generate extra copies and increase \" +\n",
      " 40%|████      | 2/5 [2:06:32<3:02:17, 3645.74s/it]"
     ]
    },
    {
     "name": "stdout",
     "output_type": "stream",
     "text": [
      "n_estimators 71 max_depth 5 learning_rate 0.19968007556004053\n",
      "Train: RMSE 1.8833829164505005 ARMSE 3.2429975927032846\n",
      "Test: RMSE 1.8042649030685425 ARMSE 3.0757708207232493\n"
     ]
    },
    {
     "name": "stderr",
     "output_type": "stream",
     "text": [
      "/opt/conda/lib/python3.7/site-packages/xgboost/data.py:114: UserWarning: Use subset (sliced data) of np.ndarray is not recommended because it will generate extra copies and increase memory consumption\n",
      "  \"because it will generate extra copies and increase \" +\n",
      " 60%|██████    | 3/5 [3:34:36<2:26:26, 4393.46s/it]"
     ]
    },
    {
     "name": "stdout",
     "output_type": "stream",
     "text": [
      "n_estimators 95 max_depth 7 learning_rate 0.3080987399329117\n",
      "Train: RMSE 1.7820528745651245 ARMSE 3.0506597306768923\n",
      "Test: RMSE 1.807724952697754 ARMSE 3.0881879331489936\n"
     ]
    },
    {
     "name": "stderr",
     "output_type": "stream",
     "text": [
      "/opt/conda/lib/python3.7/site-packages/xgboost/data.py:114: UserWarning: Use subset (sliced data) of np.ndarray is not recommended because it will generate extra copies and increase memory consumption\n",
      "  \"because it will generate extra copies and increase \" +\n",
      " 80%|████████  | 4/5 [4:39:01<1:09:44, 4184.79s/it]"
     ]
    },
    {
     "name": "stdout",
     "output_type": "stream",
     "text": [
      "n_estimators 59 max_depth 8 learning_rate 0.49939053351680296\n",
      "Train: RMSE 1.7330522537231445 ARMSE 2.957930478086835\n",
      "Test: RMSE 1.8375163078308105 ARMSE 3.163573397079174\n"
     ]
    },
    {
     "name": "stderr",
     "output_type": "stream",
     "text": [
      "/opt/conda/lib/python3.7/site-packages/xgboost/data.py:114: UserWarning: Use subset (sliced data) of np.ndarray is not recommended because it will generate extra copies and increase memory consumption\n",
      "  \"because it will generate extra copies and increase \" +\n",
      "100%|██████████| 5/5 [5:48:38<00:00, 4183.79s/it]  "
     ]
    },
    {
     "name": "stdout",
     "output_type": "stream",
     "text": [
      "n_estimators 56 max_depth 9 learning_rate 0.140999404993131\n",
      "Train: RMSE 1.783154845237732 ARMSE 3.0569330466998235\n",
      "Test: RMSE 1.7846338748931885 ARMSE 3.053612327391125\n"
     ]
    },
    {
     "name": "stderr",
     "output_type": "stream",
     "text": [
      "\n"
     ]
    }
   ],
   "source": [
    "for i in tqdm(range(5)):\n",
    "    learning_rate = random.uniform(0.001,0.5)\n",
    "    max_depth = random.sample(range(5,10),1)[0]\n",
    "    n_estimators = random.sample(range(50,100),1)[0]\n",
    "    xgb = XGBRegressor(learning_rate=learning_rate, max_depth=max_depth, n_estimators=n_estimators,n_jobs=-1)\n",
    "    xgb.fit(x_train,y_train)\n",
    "    y_train_xgb = xgb.predict(x_train)\n",
    "    y_test_xgb = xgb.predict(x_test)\n",
    "    rmse_train = mse(y_train,y_train_xgb,squared=False)\n",
    "    armse_train = armse(y_train,y_train_xgb)\n",
    "    rmse_test = mse(y_test,y_test_xgb,squared=False)\n",
    "    armse_test = armse(y_test,y_test_xgb) \n",
    "    print('n_estimators {} max_depth {} learning_rate {}'.format(n_estimators,max_depth,learning_rate))\n",
    "    print('Train: RMSE {} ARMSE {}'.format(rmse_train,armse_train))\n",
    "    print('Test: RMSE {} ARMSE {}'.format(rmse_test,armse_test))"
   ]
  },
  {
   "cell_type": "code",
   "execution_count": 30,
   "metadata": {
    "execution": {
     "iopub.execute_input": "2021-08-18T13:57:54.411414Z",
     "iopub.status.busy": "2021-08-18T13:57:54.410861Z",
     "iopub.status.idle": "2021-08-18T15:08:21.918291Z",
     "shell.execute_reply": "2021-08-18T15:08:21.916681Z",
     "shell.execute_reply.started": "2021-08-18T13:57:54.411379Z"
    }
   },
   "outputs": [
    {
     "name": "stderr",
     "output_type": "stream",
     "text": [
      "/opt/conda/lib/python3.7/site-packages/xgboost/data.py:114: UserWarning: Use subset (sliced data) of np.ndarray is not recommended because it will generate extra copies and increase memory consumption\n",
      "  \"because it will generate extra copies and increase \" +\n"
     ]
    },
    {
     "name": "stdout",
     "output_type": "stream",
     "text": [
      "Train: RMSE 1.783154845237732 ARMSE 3.0569330466998235\n",
      "Test: RMSE 1.7846338748931885 ARMSE 3.053612327391125\n"
     ]
    }
   ],
   "source": [
    "xgb = XGBRegressor(learning_rate=0.140999404993131, max_depth=9, n_estimators=56,n_jobs=-1)\n",
    "xgb.fit(x_train,y_train)\n",
    "y_train_xgb = xgb.predict(x_train)\n",
    "y_test_xgb = xgb.predict(x_test)\n",
    "rmse_train = mse(y_train,y_train_xgb,squared=False)\n",
    "armse_train = armse(y_train,y_train_xgb)\n",
    "rmse_test = mse(y_test,y_test_xgb,squared=False)\n",
    "armse_test = armse(y_test,y_test_xgb) \n",
    "print('Train: RMSE {} ARMSE {}'.format(rmse_train,armse_train))\n",
    "print('Test: RMSE {} ARMSE {}'.format(rmse_test,armse_test))"
   ]
  },
  {
   "cell_type": "markdown",
   "metadata": {},
   "source": [
    "### **Hyperparameter tuning: LGBM**"
   ]
  },
  {
   "cell_type": "code",
   "execution_count": 32,
   "metadata": {
    "execution": {
     "iopub.execute_input": "2021-08-13T09:43:28.401189Z",
     "iopub.status.busy": "2021-08-13T09:43:28.400747Z",
     "iopub.status.idle": "2021-08-13T09:58:52.925681Z",
     "shell.execute_reply": "2021-08-13T09:58:52.924709Z",
     "shell.execute_reply.started": "2021-08-13T09:43:28.401121Z"
    }
   },
   "outputs": [
    {
     "name": "stderr",
     "output_type": "stream",
     "text": [
      " 20%|██        | 1/5 [02:42<10:48, 162.21s/it]"
     ]
    },
    {
     "name": "stdout",
     "output_type": "stream",
     "text": [
      "n_estimators 61 max_depth 7 learning_rate 0.3457333321230572\n",
      "Train: RMSE 1.7568617029348361 ARMSE 2.981913614940773\n",
      "Test: RMSE 1.7513307099838027 ARMSE 2.9760653139877307\n"
     ]
    },
    {
     "name": "stderr",
     "output_type": "stream",
     "text": [
      " 40%|████      | 2/5 [05:40<08:34, 171.49s/it]"
     ]
    },
    {
     "name": "stdout",
     "output_type": "stream",
     "text": [
      "n_estimators 81 max_depth 8 learning_rate 0.4341742062501302\n",
      "Train: RMSE 1.7300853992413916 ARMSE 2.92963106629136\n",
      "Test: RMSE 1.7563508963367647 ARMSE 3.0056769765093057\n"
     ]
    },
    {
     "name": "stderr",
     "output_type": "stream",
     "text": [
      " 60%|██████    | 3/5 [08:47<05:57, 178.60s/it]"
     ]
    },
    {
     "name": "stdout",
     "output_type": "stream",
     "text": [
      "n_estimators 90 max_depth 8 learning_rate 0.26661528358747144\n",
      "Train: RMSE 1.7434842718616461 ARMSE 2.958828656192167\n",
      "Test: RMSE 1.7478131226481162 ARMSE 2.971252548937483\n"
     ]
    },
    {
     "name": "stderr",
     "output_type": "stream",
     "text": [
      " 80%|████████  | 4/5 [12:15<03:10, 190.40s/it]"
     ]
    },
    {
     "name": "stdout",
     "output_type": "stream",
     "text": [
      "n_estimators 98 max_depth 7 learning_rate 0.10022727873975876\n",
      "Train: RMSE 1.7846721007422275 ARMSE 3.0376312270375863\n",
      "Test: RMSE 1.7504116902142783 ARMSE 2.9809227868109742\n"
     ]
    },
    {
     "name": "stderr",
     "output_type": "stream",
     "text": [
      "100%|██████████| 5/5 [15:24<00:00, 184.90s/it]"
     ]
    },
    {
     "name": "stdout",
     "output_type": "stream",
     "text": [
      "n_estimators 68 max_depth 8 learning_rate 0.03694414621655303\n",
      "Train: RMSE 1.8604932968978833 ARMSE 3.2916972390739128\n",
      "Test: RMSE 1.7937277489180639 ARMSE 3.1734357884907385\n"
     ]
    },
    {
     "name": "stderr",
     "output_type": "stream",
     "text": [
      "\n"
     ]
    }
   ],
   "source": [
    "for i in tqdm(range(5)):\n",
    "    learning_rate = random.uniform(0.001,0.5)\n",
    "    max_depth = random.sample(range(5,10),1)[0]\n",
    "    n_estimators = random.sample(range(50,100),1)[0]\n",
    "    lgbm = LGBMRegressor(learning_rate=learning_rate, max_depth=max_depth, n_estimators=n_estimators, n_jobs=-1)\n",
    "    lgbm.fit(x_train,y_train)\n",
    "    y_train_lgbm = lgbm.predict(x_train)\n",
    "    y_test_lgbm = lgbm.predict(x_test)\n",
    "    rmse_train = mse(y_train,y_train_lgbm,squared=False)\n",
    "    armse_train = armse(y_train,y_train_lgbm)     \n",
    "    rmse_test = mse(y_test,y_test_lgbm,squared=False)\n",
    "    armse_test = armse(y_test,y_test_lgbm) \n",
    "    print('n_estimators {} max_depth {} learning_rate {}'.format(n_estimators,max_depth,learning_rate))\n",
    "    print('Train: RMSE {} ARMSE {}'.format(rmse_train,armse_train))\n",
    "    print('Test: RMSE {} ARMSE {}'.format(rmse_test,armse_test))"
   ]
  },
  {
   "cell_type": "code",
   "execution_count": 34,
   "metadata": {
    "execution": {
     "iopub.execute_input": "2021-08-13T10:21:56.788969Z",
     "iopub.status.busy": "2021-08-13T10:21:56.788457Z",
     "iopub.status.idle": "2021-08-13T10:25:02.508479Z",
     "shell.execute_reply": "2021-08-13T10:25:02.507249Z",
     "shell.execute_reply.started": "2021-08-13T10:21:56.788929Z"
    }
   },
   "outputs": [
    {
     "name": "stdout",
     "output_type": "stream",
     "text": [
      "Train: RMSE 1.7434842718616461 ARMSE 2.958828656192167\n",
      "Test: RMSE 1.7478131226481162 ARMSE 2.971252548937483\n"
     ]
    }
   ],
   "source": [
    "lgbm = LGBMRegressor(learning_rate=0.26661528358747144, max_depth=8, n_estimators=90, n_jobs=-1)\n",
    "lgbm.fit(x_train,y_train)\n",
    "y_train_lgbm = lgbm.predict(x_train)\n",
    "y_test_lgbm = lgbm.predict(x_test)\n",
    "rmse_train = mse(y_train,y_train_lgbm,squared=False)\n",
    "armse_train = armse(y_train,y_train_lgbm)\n",
    "rmse_test = mse(y_test,y_test_lgbm,squared=False)\n",
    "armse_test = armse(y_test,y_test_lgbm)   \n",
    "print('Train: RMSE {} ARMSE {}'.format(rmse_train,armse_train))\n",
    "print('Test: RMSE {} ARMSE {}'.format(rmse_test,armse_test))"
   ]
  },
  {
   "cell_type": "code",
   "execution_count": 1,
   "metadata": {
    "execution": {
     "iopub.execute_input": "2021-08-18T17:43:49.278770Z",
     "iopub.status.busy": "2021-08-18T17:43:49.278280Z",
     "iopub.status.idle": "2021-08-18T17:43:49.291616Z",
     "shell.execute_reply": "2021-08-18T17:43:49.289840Z",
     "shell.execute_reply.started": "2021-08-18T17:43:49.278730Z"
    }
   },
   "outputs": [
    {
     "name": "stdout",
     "output_type": "stream",
     "text": [
      "+-----------------------+------------+-----------+-------------+------------+\n",
      "|         Model         | Train RMSE | Test RMSE | Train ARMSE | Test ARMSE |\n",
      "+-----------------------+------------+-----------+-------------+------------+\n",
      "|     LGBMRegressor     |   1.743    |   1.747   |    2.958    |   2.971    |\n",
      "|      XGBRegressor     |   1.783    |   1.784   |    3.056    |   3.053    |\n",
      "|   CatBoostRegressor   |   1.751    |   1.755   |     2.97    |    2.99    |\n",
      "| RandomForestRegressor |   1.741    |   1.754   |    2.948    |   2.978    |\n",
      "| DecisionTreeRegressor |   1.781    |   1.782   |    3.012    |   3.012    |\n",
      "+-----------------------+------------+-----------+-------------+------------+\n"
     ]
    }
   ],
   "source": [
    "from prettytable import PrettyTable\n",
    "x = PrettyTable()\n",
    "x.field_names = [\"Model\", \"Train RMSE\", \"Test RMSE\", \"Train ARMSE\", \"Test ARMSE\"]\n",
    "x.add_row([\"LGBMRegressor\", 1.743, 1.747, 2.958, 2.971])\n",
    "x.add_row([\"XGBRegressor\", 1.783, 1.784, 3.056, 3.053])\n",
    "x.add_row([\"CatBoostRegressor\", 1.751, 1.755, 2.97, 2.99])\n",
    "x.add_row([\"RandomForestRegressor\", 1.741, 1.754, 2.948, 2.978])\n",
    "x.add_row([\"DecisionTreeRegressor\", 1.781, 1.782, 3.012, 3.012])\n",
    "print(x)"
   ]
  }
 ],
 "metadata": {
  "kernelspec": {
   "display_name": "Python 3",
   "language": "python",
   "name": "python3"
  },
  "language_info": {
   "codemirror_mode": {
    "name": "ipython",
    "version": 3
   },
   "file_extension": ".py",
   "mimetype": "text/x-python",
   "name": "python",
   "nbconvert_exporter": "python",
   "pygments_lexer": "ipython3",
   "version": "3.6.5"
  }
 },
 "nbformat": 4,
 "nbformat_minor": 4
}
